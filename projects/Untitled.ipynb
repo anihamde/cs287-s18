{
 "cells": [
  {
   "cell_type": "code",
   "execution_count": 15,
   "metadata": {},
   "outputs": [
    {
     "name": "stdout",
     "output_type": "stream",
     "text": [
      "Reading gene expression data from:\n",
      "/n/data_02/Basset/data/expn/roadmap/57epigenomes.RPKM.pc\n",
      "torch.Size([56, 19795])\n"
     ]
    }
   ],
   "source": [
    "import torch\n",
    "import time\n",
    "import subprocess\n",
    "from torch.autograd import Variable\n",
    "import torch.nn as nn\n",
    "import torch.nn.functional as F\n",
    "import torchvision.datasets as datasets\n",
    "import torchvision.transforms as transforms\n",
    "from torch.distributions import Normal\n",
    "from torch.distributions.kl import kl_divergence\n",
    "import numpy as np\n",
    "# import argparse\n",
    "import time\n",
    "import pandas as pd\n",
    "from helpers import timeSince, asMinutes, calc_auc\n",
    "from vi_model import *\n",
    "# import h5py\n",
    "# import matplotlib.pyplot as plt\n",
    "# import matplotlib.cm as cm\n",
    "# from baseline_model import *\n",
    "\n",
    "class Arg():\n",
    "    def __init__(self):\n",
    "        pass\n",
    "\n",
    "args = Arg()\n",
    "args.model_type = 0\n",
    "args.latent_dim = 2\n",
    "args.batch_size = 56\n",
    "args.num_epochs = 20\n",
    "args.clip = 5.0\n",
    "args.learning_rate1 = 0.0001\n",
    "args.learning_rate2 = 0.001\n",
    "args.alpha = 1.0\n",
    "args.model_file = 'stupidvi.pkl'\n",
    "args.init_stdev = 0.001\n",
    "\n",
    "expn_pth = '/n/data_02/Basset/data/expn/roadmap/57epigenomes.RPKM.pc'\n",
    "print(\"Reading gene expression data from:\\n{}\".format(expn_pth))\n",
    "# Gene expression dataset\n",
    "expn = pd.read_table(expn_pth,header=0)\n",
    "col_names = expn.columns.values[1:]\n",
    "expn = expn.drop(col_names[-1],axis=1) # 19795*57 right now # TODO: is this all right?\n",
    "expn.columns = col_names\n",
    "pinned_lookup = torch.nn.Embedding.from_pretrained(torch.FloatTensor(expn.as_matrix().T[1:]),freeze=True) # [1:] is new!\n",
    "pinned_lookup.cuda()\n",
    "\n",
    "torch.manual_seed(3435)\n",
    "imgs = torch.poisson(pinned_lookup.weight) # discretize data\n",
    "# imgs = pinned_lookup.weight.round()\n",
    "# imgs = pinned_lookup.weight\n",
    "dat = torch.utils.data.TensorDataset(imgs, torch.zeros(56,1)) # placeholder arg required pytorch <0.4.0...\n",
    "loader = torch.utils.data.DataLoader(dat, batch_size=args.batch_size, shuffle=False)\n",
    "img, _ = next(iter(loader))\n",
    "print(img.size())\n",
    "\n",
    "theta = Decoder(latent_dim=args.latent_dim)\n",
    "if True: # initialize weights with smaller stdev to prevent instability\n",
    "    dsd = theta.state_dict()\n",
    "    for param in dsd:\n",
    "        dsd[param].data = torch.randn(dsd[param].size())*args.init_stdev\n",
    "    theta.load_state_dict(dsd)\n",
    "\n",
    "theta.cuda()\n",
    "# theta.load_state_dict(torch.load(args.model_file))\n",
    "\n",
    "criterion = nn.PoissonNLLLoss(log_input=True, size_average=False, full=False)\n",
    "optim1 = torch.optim.SGD(theta.parameters(), lr = args.learning_rate1)\n",
    "p = Normal(Variable(torch.zeros(args.batch_size, args.latent_dim)).cuda(), \n",
    "           Variable(torch.ones(args.batch_size, args.latent_dim)).cuda()) # p(z)\n",
    "mu = Variable(torch.randn(args.batch_size,args.latent_dim).cuda(),requires_grad=True) # variational parameters\n",
    "logvar = Variable(torch.randn(args.batch_size,args.latent_dim).cuda(),requires_grad=True)\n",
    "optim2 = torch.optim.SGD([mu,logvar], lr = args.learning_rate2)\n"
   ]
  },
  {
   "cell_type": "code",
   "execution_count": 16,
   "metadata": {},
   "outputs": [],
   "source": [
    "optim1.zero_grad()\n",
    "optim2.zero_grad()\n",
    "q = Normal(loc=mu, scale=logvar.mul(0.5).exp())\n",
    "# Reparameterized sample.\n",
    "qsamp = q.rsample()\n",
    "kl = kl_divergence(q, p).sum() # KL term\n",
    "out = theta(qsamp)\n",
    "recon_loss = criterion(out, img) # reconstruction term\n",
    "loss = (recon_loss + args.alpha * kl) / args.batch_size"
   ]
  },
  {
   "cell_type": "code",
   "execution_count": 17,
   "metadata": {},
   "outputs": [],
   "source": [
    "j = out.exp()-img*out\n",
    "assert(j.sum().item()==recon_loss.item())"
   ]
  },
  {
   "cell_type": "code",
   "execution_count": 18,
   "metadata": {},
   "outputs": [
    {
     "data": {
      "text/plain": [
       "(-10, 10)"
      ]
     },
     "execution_count": 18,
     "metadata": {},
     "output_type": "execute_result"
    },
    {
     "data": {
      "image/png": "[encoded data removed]",
      "text/plain": [
       "<Figure size 432x288 with 1 Axes>"
      ]
     },
     "metadata": {},
     "output_type": "display_data"
    }
   ],
   "source": [
    "import matplotlib.pyplot as plt\n",
    "%matplotlib inline\n",
    "a = img.cpu().numpy().flatten()\n",
    "b = j.cpu().detach().numpy().flatten()\n",
    "plt.plot(a,b,'o')\n",
    "plt.xlabel('Gene expr counts')\n",
    "plt.ylabel('Unnormalized Loss Scores')\n",
    "plt.xlim(0,10)\n",
    "plt.ylim(-10,10)"
   ]
  },
  {
   "cell_type": "code",
   "execution_count": 21,
   "metadata": {},
   "outputs": [
    {
     "data": {
      "text/plain": [
       "Text(0,0.5,'Predicted gene expr counts')"
      ]
     },
     "execution_count": 21,
     "metadata": {},
     "output_type": "execute_result"
    },
    {
     "data": {
      "image/png": "[encoded data removed]",
      "text/plain": [
       "<Figure size 432x288 with 1 Axes>"
      ]
     },
     "metadata": {},
     "output_type": "display_data"
    }
   ],
   "source": [
    "c = out.exp().detach().cpu().numpy().flatten()\n",
    "plt.plot(a,c,'o')\n",
    "plt.xlabel('Gene expr counts')\n",
    "plt.ylabel('Predicted gene expr counts')"
   ]
  },
  {
   "cell_type": "code",
   "execution_count": null,
   "metadata": {},
   "outputs": [],
   "source": []
  },
  {
   "cell_type": "code",
   "execution_count": null,
   "metadata": {},
   "outputs": [],
   "source": []
  },
  {
   "cell_type": "code",
   "execution_count": 20,
   "metadata": {
    "scrolled": true
   },
   "outputs": [
    {
     "name": "stderr",
     "output_type": "stream",
     "text": [
      "/home/sgosai/anaconda3/envs/pytorch_p36/lib/python3.6/site-packages/ipykernel_launcher.py:25: UserWarning: torch.nn.utils.clip_grad_norm is now deprecated in favor of torch.nn.utils.clip_grad_norm_.\n",
      "/home/sgosai/anaconda3/envs/pytorch_p36/lib/python3.6/site-packages/ipykernel_launcher.py:26: UserWarning: torch.nn.utils.clip_grad_norm is now deprecated in favor of torch.nn.utils.clip_grad_norm_.\n",
      "/home/sgosai/anaconda3/envs/pytorch_p36/lib/python3.6/site-packages/ipykernel_launcher.py:27: UserWarning: torch.nn.utils.clip_grad_norm is now deprecated in favor of torch.nn.utils.clip_grad_norm_.\n"
     ]
    },
    {
     "name": "stdout",
     "output_type": "stream",
     "text": [
      "Time 0m 0s, Epoch [1/20], Tuning Lambda, Recon Loss: 19959.3683, KL Loss: 1.6946, ELBO Loss: 19961.0630\n",
      "Time 0m 0s, Epoch [1/20], Tuning Theta, Recon Loss: 19959.3616, KL Loss: 1.6946, ELBO Loss: 19961.0562\n",
      "Time 0m 0s, Epoch [2/20], Tuning Lambda, Recon Loss: 19908.2411, KL Loss: 1.6946, ELBO Loss: 19909.9356\n",
      "Time 0m 0s, Epoch [2/20], Tuning Theta, Recon Loss: 19908.3013, KL Loss: 1.6945, ELBO Loss: 19909.9958\n",
      "Time 0m 0s, Epoch [3/20], Tuning Lambda, Recon Loss: 19857.1272, KL Loss: 1.6945, ELBO Loss: 19858.8217\n",
      "Time 0m 0s, Epoch [3/20], Tuning Theta, Recon Loss: 19857.2344, KL Loss: 1.6944, ELBO Loss: 19858.9288\n",
      "Time 0m 0s, Epoch [4/20], Tuning Lambda, Recon Loss: 19805.9710, KL Loss: 1.6944, ELBO Loss: 19807.6654\n",
      "Time 0m 0s, Epoch [4/20], Tuning Theta, Recon Loss: 19806.0647, KL Loss: 1.6944, ELBO Loss: 19807.7591\n",
      "Time 0m 0s, Epoch [5/20], Tuning Lambda, Recon Loss: 19754.8103, KL Loss: 1.6944, ELBO Loss: 19756.5046\n",
      "Time 0m 0s, Epoch [5/20], Tuning Theta, Recon Loss: 19754.8237, KL Loss: 1.6943, ELBO Loss: 19756.5179\n",
      "Time 0m 1s, Epoch [6/20], Tuning Lambda, Recon Loss: 19703.7143, KL Loss: 1.6943, ELBO Loss: 19705.4086\n",
      "Time 0m 1s, Epoch [6/20], Tuning Theta, Recon Loss: 19703.7254, KL Loss: 1.6942, ELBO Loss: 19705.4197\n",
      "Time 0m 1s, Epoch [7/20], Tuning Lambda, Recon Loss: 19652.6362, KL Loss: 1.6942, ELBO Loss: 19654.3304\n",
      "Time 0m 1s, Epoch [7/20], Tuning Theta, Recon Loss: 19652.6808, KL Loss: 1.6941, ELBO Loss: 19654.3749\n",
      "Time 0m 1s, Epoch [8/20], Tuning Lambda, Recon Loss: 19601.5246, KL Loss: 1.6941, ELBO Loss: 19603.2187\n",
      "Time 0m 1s, Epoch [8/20], Tuning Theta, Recon Loss: 19601.4911, KL Loss: 1.6941, ELBO Loss: 19603.1851\n",
      "Time 0m 1s, Epoch [9/20], Tuning Lambda, Recon Loss: 19550.3371, KL Loss: 1.6941, ELBO Loss: 19552.0311\n",
      "Time 0m 1s, Epoch [9/20], Tuning Theta, Recon Loss: 19550.3571, KL Loss: 1.6940, ELBO Loss: 19552.0511\n",
      "Time 0m 2s, Epoch [10/20], Tuning Lambda, Recon Loss: 19499.3304, KL Loss: 1.6940, ELBO Loss: 19501.0243\n",
      "Time 0m 2s, Epoch [10/20], Tuning Theta, Recon Loss: 19499.2879, KL Loss: 1.6939, ELBO Loss: 19500.9819\n",
      "Time 0m 2s, Epoch [11/20], Tuning Lambda, Recon Loss: 19448.0826, KL Loss: 1.6939, ELBO Loss: 19449.7765\n",
      "Time 0m 2s, Epoch [11/20], Tuning Theta, Recon Loss: 19448.1183, KL Loss: 1.6938, ELBO Loss: 19449.8121\n",
      "Time 0m 2s, Epoch [12/20], Tuning Lambda, Recon Loss: 19397.0335, KL Loss: 1.6938, ELBO Loss: 19398.7273\n",
      "Time 0m 2s, Epoch [12/20], Tuning Theta, Recon Loss: 19396.9911, KL Loss: 1.6938, ELBO Loss: 19398.6848\n",
      "Time 0m 2s, Epoch [13/20], Tuning Lambda, Recon Loss: 19345.9442, KL Loss: 1.6938, ELBO Loss: 19347.6380\n",
      "Time 0m 2s, Epoch [13/20], Tuning Theta, Recon Loss: 19345.9710, KL Loss: 1.6937, ELBO Loss: 19347.6647\n",
      "Time 0m 3s, Epoch [14/20], Tuning Lambda, Recon Loss: 19294.8482, KL Loss: 1.6937, ELBO Loss: 19296.5419\n",
      "Time 0m 3s, Epoch [14/20], Tuning Theta, Recon Loss: 19294.7924, KL Loss: 1.6936, ELBO Loss: 19296.4860\n",
      "Time 0m 3s, Epoch [15/20], Tuning Lambda, Recon Loss: 19243.6585, KL Loss: 1.6936, ELBO Loss: 19245.3521\n",
      "Time 0m 3s, Epoch [15/20], Tuning Theta, Recon Loss: 19243.7478, KL Loss: 1.6935, ELBO Loss: 19245.4413\n",
      "Time 0m 3s, Epoch [16/20], Tuning Lambda, Recon Loss: 19192.5491, KL Loss: 1.6935, ELBO Loss: 19194.2426\n",
      "Time 0m 3s, Epoch [16/20], Tuning Theta, Recon Loss: 19192.5179, KL Loss: 1.6935, ELBO Loss: 19194.2113\n",
      "Time 0m 3s, Epoch [17/20], Tuning Lambda, Recon Loss: 19141.3996, KL Loss: 1.6935, ELBO Loss: 19143.0930\n",
      "Time 0m 3s, Epoch [17/20], Tuning Theta, Recon Loss: 19141.3795, KL Loss: 1.6934, ELBO Loss: 19143.0729\n",
      "Time 0m 4s, Epoch [18/20], Tuning Lambda, Recon Loss: 19090.4688, KL Loss: 1.6934, ELBO Loss: 19092.1621\n",
      "Time 0m 4s, Epoch [18/20], Tuning Theta, Recon Loss: 19090.3013, KL Loss: 1.6933, ELBO Loss: 19091.9947\n",
      "Time 0m 4s, Epoch [19/20], Tuning Lambda, Recon Loss: 19039.1853, KL Loss: 1.6933, ELBO Loss: 19040.8786\n",
      "Time 0m 4s, Epoch [19/20], Tuning Theta, Recon Loss: 19039.1942, KL Loss: 1.6932, ELBO Loss: 19040.8874\n",
      "Time 0m 4s, Epoch [20/20], Tuning Lambda, Recon Loss: 18988.0826, KL Loss: 1.6932, ELBO Loss: 18989.7758\n",
      "Time 0m 4s, Epoch [20/20], Tuning Theta, Recon Loss: 18988.0446, KL Loss: 1.6932, ELBO Loss: 18989.7378\n",
      "Time 0m 4s, Epoch [21/20], Tuning Lambda, Recon Loss: 18937.0223, KL Loss: 1.6932, ELBO Loss: 18938.7155\n",
      "Time 0m 5s, Epoch [21/20], Tuning Theta, Recon Loss: 18936.8728, KL Loss: 1.6931, ELBO Loss: 18938.5659\n",
      "Time 0m 5s, Epoch [22/20], Tuning Lambda, Recon Loss: 18885.8326, KL Loss: 1.6931, ELBO Loss: 18887.5257\n",
      "Time 0m 5s, Epoch [22/20], Tuning Theta, Recon Loss: 18885.8393, KL Loss: 1.6930, ELBO Loss: 18887.5323\n",
      "Time 0m 5s, Epoch [23/20], Tuning Lambda, Recon Loss: 18834.6652, KL Loss: 1.6930, ELBO Loss: 18836.3582\n",
      "Time 0m 5s, Epoch [23/20], Tuning Theta, Recon Loss: 18834.7143, KL Loss: 1.6930, ELBO Loss: 18836.4072\n",
      "Time 0m 5s, Epoch [24/20], Tuning Lambda, Recon Loss: 18783.5558, KL Loss: 1.6930, ELBO Loss: 18785.2488\n",
      "Time 0m 5s, Epoch [24/20], Tuning Theta, Recon Loss: 18783.5670, KL Loss: 1.6929, ELBO Loss: 18785.2598\n",
      "Time 0m 5s, Epoch [25/20], Tuning Lambda, Recon Loss: 18732.4062, KL Loss: 1.6929, ELBO Loss: 18734.0991\n",
      "Time 0m 6s, Epoch [25/20], Tuning Theta, Recon Loss: 18732.4107, KL Loss: 1.6928, ELBO Loss: 18734.1035\n",
      "Time 0m 6s, Epoch [26/20], Tuning Lambda, Recon Loss: 18681.2801, KL Loss: 1.6928, ELBO Loss: 18682.9729\n",
      "Time 0m 6s, Epoch [26/20], Tuning Theta, Recon Loss: 18681.3147, KL Loss: 1.6927, ELBO Loss: 18683.0075\n",
      "Time 0m 6s, Epoch [27/20], Tuning Lambda, Recon Loss: 18630.1853, KL Loss: 1.6927, ELBO Loss: 18631.8780\n",
      "Time 0m 6s, Epoch [27/20], Tuning Theta, Recon Loss: 18630.1953, KL Loss: 1.6927, ELBO Loss: 18631.8880\n",
      "Time 0m 6s, Epoch [28/20], Tuning Lambda, Recon Loss: 18579.0625, KL Loss: 1.6927, ELBO Loss: 18580.7552\n",
      "Time 0m 6s, Epoch [28/20], Tuning Theta, Recon Loss: 18579.1083, KL Loss: 1.6926, ELBO Loss: 18580.8008\n",
      "Time 0m 6s, Epoch [29/20], Tuning Lambda, Recon Loss: 18527.9531, KL Loss: 1.6926, ELBO Loss: 18529.6457\n",
      "Time 0m 7s, Epoch [29/20], Tuning Theta, Recon Loss: 18527.9676, KL Loss: 1.6925, ELBO Loss: 18529.6601\n",
      "Time 0m 7s, Epoch [30/20], Tuning Lambda, Recon Loss: 18476.8158, KL Loss: 1.6925, ELBO Loss: 18478.5084\n",
      "Time 0m 7s, Epoch [30/20], Tuning Theta, Recon Loss: 18476.8772, KL Loss: 1.6924, ELBO Loss: 18478.5697\n",
      "Time 0m 7s, Epoch [31/20], Tuning Lambda, Recon Loss: 18425.7455, KL Loss: 1.6924, ELBO Loss: 18427.4380\n",
      "Time 0m 7s, Epoch [31/20], Tuning Theta, Recon Loss: 18425.7377, KL Loss: 1.6924, ELBO Loss: 18427.4301\n",
      "Time 0m 7s, Epoch [32/20], Tuning Lambda, Recon Loss: 18374.6272, KL Loss: 1.6924, ELBO Loss: 18376.3196\n",
      "Time 0m 7s, Epoch [32/20], Tuning Theta, Recon Loss: 18374.5759, KL Loss: 1.6923, ELBO Loss: 18376.2682\n",
      "Time 0m 7s, Epoch [33/20], Tuning Lambda, Recon Loss: 18323.5123, KL Loss: 1.6923, ELBO Loss: 18325.2046\n",
      "Time 0m 8s, Epoch [33/20], Tuning Theta, Recon Loss: 18323.5525, KL Loss: 1.6922, ELBO Loss: 18325.2447\n",
      "Time 0m 8s, Epoch [34/20], Tuning Lambda, Recon Loss: 18272.3772, KL Loss: 1.6922, ELBO Loss: 18274.0694\n",
      "Time 0m 8s, Epoch [34/20], Tuning Theta, Recon Loss: 18272.3594, KL Loss: 1.6921, ELBO Loss: 18274.0515\n",
      "Time 0m 8s, Epoch [35/20], Tuning Lambda, Recon Loss: 18221.2165, KL Loss: 1.6921, ELBO Loss: 18222.9087\n",
      "Time 0m 8s, Epoch [35/20], Tuning Theta, Recon Loss: 18221.2600, KL Loss: 1.6921, ELBO Loss: 18222.9521\n",
      "Time 0m 8s, Epoch [36/20], Tuning Lambda, Recon Loss: 18170.2076, KL Loss: 1.6921, ELBO Loss: 18171.8997\n",
      "Time 0m 8s, Epoch [36/20], Tuning Theta, Recon Loss: 18170.1339, KL Loss: 1.6920, ELBO Loss: 18171.8259\n",
      "Time 0m 8s, Epoch [37/20], Tuning Lambda, Recon Loss: 18118.9844, KL Loss: 1.6920, ELBO Loss: 18120.6764\n",
      "Time 0m 9s, Epoch [37/20], Tuning Theta, Recon Loss: 18119.0000, KL Loss: 1.6919, ELBO Loss: 18120.6919\n",
      "Time 0m 9s, Epoch [38/20], Tuning Lambda, Recon Loss: 18067.8449, KL Loss: 1.6919, ELBO Loss: 18069.5368\n",
      "Time 0m 9s, Epoch [38/20], Tuning Theta, Recon Loss: 18067.8783, KL Loss: 1.6919, ELBO Loss: 18069.5702\n",
      "Time 0m 9s, Epoch [39/20], Tuning Lambda, Recon Loss: 18016.7857, KL Loss: 1.6919, ELBO Loss: 18018.4776\n",
      "Time 0m 9s, Epoch [39/20], Tuning Theta, Recon Loss: 18016.7812, KL Loss: 1.6918, ELBO Loss: 18018.4730\n",
      "Time 0m 9s, Epoch [40/20], Tuning Lambda, Recon Loss: 17965.5926, KL Loss: 1.6918, ELBO Loss: 17967.2844\n"
     ]
    },
    {
     "name": "stdout",
     "output_type": "stream",
     "text": [
      "Time 0m 9s, Epoch [40/20], Tuning Theta, Recon Loss: 17965.6440, KL Loss: 1.6917, ELBO Loss: 17967.3357\n",
      "Time 0m 9s, Epoch [41/20], Tuning Lambda, Recon Loss: 17914.5491, KL Loss: 1.6917, ELBO Loss: 17916.2408\n",
      "Time 0m 10s, Epoch [41/20], Tuning Theta, Recon Loss: 17914.5424, KL Loss: 1.6916, ELBO Loss: 17916.2340\n",
      "Time 0m 10s, Epoch [42/20], Tuning Lambda, Recon Loss: 17863.3962, KL Loss: 1.6916, ELBO Loss: 17865.0878\n",
      "Time 0m 10s, Epoch [42/20], Tuning Theta, Recon Loss: 17863.3471, KL Loss: 1.6916, ELBO Loss: 17865.0387\n",
      "Time 0m 10s, Epoch [43/20], Tuning Lambda, Recon Loss: 17812.2891, KL Loss: 1.6916, ELBO Loss: 17813.9806\n",
      "Time 0m 10s, Epoch [43/20], Tuning Theta, Recon Loss: 17812.2600, KL Loss: 1.6915, ELBO Loss: 17813.9515\n",
      "Time 0m 10s, Epoch [44/20], Tuning Lambda, Recon Loss: 17761.1417, KL Loss: 1.6915, ELBO Loss: 17762.8332\n",
      "Time 0m 10s, Epoch [44/20], Tuning Theta, Recon Loss: 17761.1830, KL Loss: 1.6914, ELBO Loss: 17762.8745\n",
      "Time 0m 10s, Epoch [45/20], Tuning Lambda, Recon Loss: 17710.1105, KL Loss: 1.6914, ELBO Loss: 17711.8019\n",
      "Time 0m 11s, Epoch [45/20], Tuning Theta, Recon Loss: 17709.9810, KL Loss: 1.6913, ELBO Loss: 17711.6724\n",
      "Time 0m 11s, Epoch [46/20], Tuning Lambda, Recon Loss: 17658.9219, KL Loss: 1.6913, ELBO Loss: 17660.6132\n",
      "Time 0m 11s, Epoch [46/20], Tuning Theta, Recon Loss: 17658.9040, KL Loss: 1.6913, ELBO Loss: 17660.5953\n",
      "Time 0m 11s, Epoch [47/20], Tuning Lambda, Recon Loss: 17607.8237, KL Loss: 1.6913, ELBO Loss: 17609.5149\n",
      "Time 0m 11s, Epoch [47/20], Tuning Theta, Recon Loss: 17607.7656, KL Loss: 1.6912, ELBO Loss: 17609.4568\n",
      "Time 0m 11s, Epoch [48/20], Tuning Lambda, Recon Loss: 17556.6987, KL Loss: 1.6912, ELBO Loss: 17558.3899\n",
      "Time 0m 11s, Epoch [48/20], Tuning Theta, Recon Loss: 17556.7054, KL Loss: 1.6911, ELBO Loss: 17558.3965\n",
      "Time 0m 11s, Epoch [49/20], Tuning Lambda, Recon Loss: 17505.5547, KL Loss: 1.6911, ELBO Loss: 17507.2458\n",
      "Time 0m 12s, Epoch [49/20], Tuning Theta, Recon Loss: 17505.5446, KL Loss: 1.6910, ELBO Loss: 17507.2357\n",
      "Time 0m 12s, Epoch [50/20], Tuning Lambda, Recon Loss: 17454.4721, KL Loss: 1.6910, ELBO Loss: 17456.1631\n",
      "Time 0m 12s, Epoch [50/20], Tuning Theta, Recon Loss: 17454.4286, KL Loss: 1.6910, ELBO Loss: 17456.1195\n"
     ]
    }
   ],
   "source": [
    "# TODO: to make this stochastic, shuffle and make smaller batches.\n",
    "start = time.time()\n",
    "theta.train()\n",
    "for epoch in range(100):\n",
    "    # Keep track of reconstruction loss and total kl\n",
    "    total_recon_loss = 0\n",
    "    total_kl = 0\n",
    "    total = 0\n",
    "    for img, _ in loader:\n",
    "        # no need to Variable(img).cuda()\n",
    "        optim1.zero_grad()\n",
    "        optim2.zero_grad()\n",
    "        q = Normal(loc=mu, scale=logvar.mul(0.5).exp())\n",
    "        # Reparameterized sample.\n",
    "        qsamp = q.rsample()\n",
    "        kl = kl_divergence(q, p).sum() # KL term\n",
    "        out = theta(qsamp)\n",
    "        recon_loss = criterion(out, img) # reconstruction term\n",
    "        loss = (recon_loss + args.alpha * kl) / args.batch_size\n",
    "        total_recon_loss += recon_loss.item() / args.batch_size\n",
    "        total_kl += kl.item() / args.batch_size\n",
    "        total += 1\n",
    "        loss.backward()\n",
    "        if args.clip:\n",
    "            torch.nn.utils.clip_grad_norm(theta.parameters(), args.clip)\n",
    "            torch.nn.utils.clip_grad_norm(mu, args.clip)\n",
    "            torch.nn.utils.clip_grad_norm(theta.parameters(), args.clip)\n",
    "        if epoch % 2:\n",
    "            optim1.step()\n",
    "            wv = 'Theta'\n",
    "            # print(theta.linear1.weight[:56:4])\n",
    "            # print(theta.linear2.weight)\n",
    "        else:\n",
    "            optim2.step()\n",
    "            wv = 'Lambda'\n",
    "            # print(mu[:56:4])\n",
    "            # print(logvar[:56:4])\n",
    "    timenow = timeSince(start)\n",
    "    print ('Time %s, Epoch [%d/%d], Tuning %s, Recon Loss: %.4f, KL Loss: %.4f, ELBO Loss: %.4f' \n",
    "            %(timenow, (epoch+2)//2, args.num_epochs, wv, total_recon_loss/total , total_kl/total, (total_recon_loss+total_kl)/total))\n",
    "    # TODO: add eval loop for big VAE\n",
    "    torch.save(theta.state_dict(), args.model_file)\n",
    "#     np.save('mu',mu.detach().numpy())\n",
    "#     np.save('logvar',logvar.detach().numpy())"
   ]
  },
  {
   "cell_type": "code",
   "execution_count": null,
   "metadata": {},
   "outputs": [],
   "source": [
    "# higher learning rates, bigger initialization, bigger grad norm, more epochs\n",
    "# how does grad norm work?\n",
    "# plotly viz"
   ]
  }
 ],
 "metadata": {
  "kernelspec": {
   "display_name": "Python (pytorch_p36)",
   "language": "python",
   "name": "pytorch_p36"
  },
  "language_info": {
   "codemirror_mode": {
    "name": "ipython",
    "version": 3
   },
   "file_extension": ".py",
   "mimetype": "text/x-python",
   "name": "python",
   "nbconvert_exporter": "python",
   "pygments_lexer": "ipython3",
   "version": "3.6.5"
  }
 },
 "nbformat": 4,
 "nbformat_minor": 2
}
