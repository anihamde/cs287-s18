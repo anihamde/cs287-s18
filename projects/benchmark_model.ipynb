{
 "cells": [
  {
   "cell_type": "code",
   "execution_count": 1,
   "metadata": {},
   "outputs": [
    {
     "name": "stderr",
     "output_type": "stream",
     "text": [
      "/home/ubuntu/anaconda3/envs/pytorch_p36/lib/python3.6/site-packages/h5py/__init__.py:36: FutureWarning: Conversion of the second argument of issubdtype from `float` to `np.floating` is deprecated. In future, it will be treated as `np.float64 == np.dtype(float).type`.\n",
      "  from ._conv import register_converters as _register_converters\n",
      "/home/ubuntu/anaconda3/envs/pytorch_p36/lib/python3.6/site-packages/matplotlib/__init__.py:1067: UserWarning: Duplicate key in file \"/home/ubuntu/.config/matplotlib/matplotlibrc\", line #2\n",
      "  (fname, cnt))\n",
      "/home/ubuntu/anaconda3/envs/pytorch_p36/lib/python3.6/site-packages/matplotlib/__init__.py:1067: UserWarning: Duplicate key in file \"/home/ubuntu/.config/matplotlib/matplotlibrc\", line #3\n",
      "  (fname, cnt))\n"
     ]
    }
   ],
   "source": [
    "import torch\n",
    "import h5py\n",
    "import sys\n",
    "import subprocess\n",
    "from torch.autograd import Variable\n",
    "import torch.nn as nn\n",
    "import torch.nn.functional as F\n",
    "import torchvision.datasets as datasets\n",
    "import torchvision.transforms as transforms\n",
    "from torch.distributions import Normal\n",
    "import numpy as np\n",
    "import argparse\n",
    "import time\n",
    "from helpers import timeSince, asMinutes\n",
    "import matplotlib.pyplot as plt\n",
    "import matplotlib.cm as cm\n",
    "from sklearn.metrics import roc_curve, auc\n",
    "\n",
    "from baseline_model import *\n"
   ]
  },
  {
   "cell_type": "code",
   "execution_count": 2,
   "metadata": {},
   "outputs": [
    {
     "name": "stdout",
     "output_type": "stream",
     "text": [
      "Reading data from file /n/data_02/Basset/data/mini_roadmap.h5\n",
      "Dataloaders generated 0m 39s\n"
     ]
    }
   ],
   "source": [
    "data_fn = '/n/data_02/Basset/data/mini_roadmap.h5'\n",
    "\n",
    "start = time.time()\n",
    "print(\"Reading data from file {}\".format(data_fn))\n",
    "data = h5py.File(data_fn)\n",
    "\n",
    "#train = torch.utils.data.TensorDataset(torch.CharTensor(data['train_in']), torch.CharTensor(data['train_out']))\n",
    "val = torch.utils.data.TensorDataset(torch.CharTensor(data['valid_in']), torch.CharTensor(data['valid_out']))\n",
    "test = torch.utils.data.TensorDataset(torch.CharTensor(data['test_in']), torch.CharTensor(data['test_out']))\n",
    "#train_loader = torch.utils.data.DataLoader(train, batch_size=args.batch_size, shuffle=True)\n",
    "val_loader = torch.utils.data.DataLoader(val, batch_size=100, shuffle=False)\n",
    "test_loader = torch.utils.data.DataLoader(test, batch_size=100, shuffle=False)\n",
    "print(\"Dataloaders generated {}\".format( timeSince(start) ))\n",
    "start = None\n"
   ]
  },
  {
   "cell_type": "code",
   "execution_count": 15,
   "metadata": {},
   "outputs": [
    {
     "name": "stdout",
     "output_type": "stream",
     "text": [
      "Import model from basset.pkl\n",
      "Done\n"
     ]
    }
   ],
   "source": [
    "model_fn = 'basset.pkl'\n",
    "print(\"Import model from {}\".format(model_fn))\n",
    "\n",
    "model = Basset()\n",
    "model.load_state_dict(torch.load(model_fn))\n",
    "print(\"Done\")"
   ]
  },
  {
   "cell_type": "code",
   "execution_count": 16,
   "metadata": {},
   "outputs": [],
   "source": [
    "val_tensor = to_one_hot(torch.FloatTensor(data['valid_in'][()].astype('uint8')), n_dims=4).permute(0,3,1,2).squeeze().float()"
   ]
  },
  {
   "cell_type": "code",
   "execution_count": 17,
   "metadata": {},
   "outputs": [
    {
     "data": {
      "text/plain": [
       "torch.Size([70000, 4, 600])"
      ]
     },
     "execution_count": 17,
     "metadata": {},
     "output_type": "execute_result"
    }
   ],
   "source": [
    "model.cuda()\n",
    "model.eval()\n",
    "val_tensor = val_tensor.cuda()\n",
    "val_tensor.shape"
   ]
  },
  {
   "cell_type": "code",
   "execution_count": 18,
   "metadata": {},
   "outputs": [],
   "source": [
    "val_set = []\n",
    "slice_size = 1000\n",
    "for i in range(int(val_tensor.shape[0] / slice_size)):\n",
    "    start_index = i*slice_size\n",
    "    stop_index  = (i+1)*slice_size\n",
    "    val_set.append( model( val_tensor[start_index:stop_index] ).cpu().data.numpy() )\n",
    "val_set = np.row_stack(val_set)"
   ]
  },
  {
   "cell_type": "code",
   "execution_count": 19,
   "metadata": {},
   "outputs": [
    {
     "data": {
      "text/plain": [
       "(70000, 164)"
      ]
     },
     "execution_count": 19,
     "metadata": {},
     "output_type": "execute_result"
    }
   ],
   "source": [
    "val_set.shape"
   ]
  },
  {
   "cell_type": "code",
   "execution_count": null,
   "metadata": {},
   "outputs": [],
   "source": [
    "np.set_printoptions(threshold=np.nan)"
   ]
  },
  {
   "cell_type": "code",
   "execution_count": null,
   "metadata": {},
   "outputs": [],
   "source": [
    "inputs, targets = val_tensor[100:200], data['valid_out'][100:200][()]"
   ]
  },
  {
   "cell_type": "code",
   "execution_count": null,
   "metadata": {},
   "outputs": [],
   "source": [
    "inputs.shape"
   ]
  },
  {
   "cell_type": "code",
   "execution_count": null,
   "metadata": {},
   "outputs": [],
   "source": [
    "threshold = 0.5\n",
    "preds = (F.sigmoid(model( inputs )).cpu().data.numpy() > threshold).astype(int)\n",
    "matches = np.sum(preds == targets)\n",
    "tru_pos = np.sum(matches == targets) / np.sum(targets)\n",
    "fls_pos = np.sum( (not matches) == targets ) / np.sum(targets == 0)\n"
   ]
  },
  {
   "cell_type": "code",
   "execution_count": null,
   "metadata": {},
   "outputs": [],
   "source": [
    "np.sum(matches == targets)"
   ]
  },
  {
   "cell_type": "code",
   "execution_count": null,
   "metadata": {},
   "outputs": [],
   "source": [
    "threshold = 0.5\n",
    "for inputs, targets in val_loader:\n",
    "    preds = (F.sigmoid(model( inputs )).cpu().data.numpy() > threshold).astype(int)\n",
    "    matches = np.sum(preds == targets)\n",
    "    tru_pos = np.sum(matches == targets) / np.sum(targets)\n",
    "    fls_pos = np.sum( (not matches) == targets ) / np.sum(targets == 0)\n"
   ]
  },
  {
   "cell_type": "code",
   "execution_count": 20,
   "metadata": {},
   "outputs": [],
   "source": [
    "n_classes = 164\n",
    "y_test = data['valid_out'][()]\n",
    "y_score= val_set\n",
    "# Compute ROC curve and ROC area for each class\n",
    "fpr = dict()\n",
    "tpr = dict()\n",
    "roc_auc = dict()\n",
    "for i in range(n_classes):\n",
    "    fpr[i], tpr[i], _ = roc_curve(y_test[:, i], y_score[:, i])\n",
    "    roc_auc[i] = auc(fpr[i], tpr[i])\n",
    "    \n",
    "# Compute micro-average ROC curve and ROC area\n",
    "fpr[\"micro\"], tpr[\"micro\"], _ = roc_curve(y_test.ravel(), y_score.ravel())\n",
    "roc_auc[\"micro\"] = auc(fpr[\"micro\"], tpr[\"micro\"])"
   ]
  },
  {
   "cell_type": "code",
   "execution_count": 21,
   "metadata": {},
   "outputs": [
    {
     "data": {
      "image/png": "[encoded data removed]",
      "text/plain": [
       "<Figure size 432x288 with 1 Axes>"
      ]
     },
     "metadata": {},
     "output_type": "display_data"
    }
   ],
   "source": [
    "plt.figure()\n",
    "lw = 2\n",
    "type_idx = 120\n",
    "plt.plot(fpr[type_idx], tpr[type_idx], color='darkorange',\n",
    "         lw=lw, label='ROC curve (area = %0.2f)' % roc_auc[type_idx])\n",
    "plt.plot([0, 1], [0, 1], color='navy', lw=lw, linestyle='--')\n",
    "plt.xlim([0.0, 1.0])\n",
    "plt.ylim([0.0, 1.05])\n",
    "plt.xlabel('False Positive Rate')\n",
    "plt.ylabel('True Positive Rate')\n",
    "plt.title('Receiver operating characteristic example')\n",
    "plt.legend(loc=\"lower right\")\n",
    "plt.show()"
   ]
  },
  {
   "cell_type": "code",
   "execution_count": 22,
   "metadata": {},
   "outputs": [
    {
     "data": {
      "text/plain": [
       "{0: 0.7618613171394464,\n",
       " 1: 0.5746849714086869,\n",
       " 10: 0.725108025269788,\n",
       " 100: 0.582874531112661,\n",
       " 101: 0.5667001793253024,\n",
       " 102: 0.5559356331684404,\n",
       " 103: 0.5438404384776613,\n",
       " 104: 0.538140643269763,\n",
       " 105: 0.49905166375959076,\n",
       " 106: 0.723943508240313,\n",
       " 107: 0.6701109797866034,\n",
       " 108: 0.6143247539802602,\n",
       " 109: 0.5539347706238449,\n",
       " 11: 0.7292492375648681,\n",
       " 110: 0.5499123776228707,\n",
       " 111: 0.6337303171576795,\n",
       " 112: 0.6408774102049679,\n",
       " 113: 0.7462484249293257,\n",
       " 114: 0.6276167696498571,\n",
       " 115: 0.7233176731409388,\n",
       " 116: 0.647974111453386,\n",
       " 117: 0.5873321492199391,\n",
       " 118: 0.6417531840728051,\n",
       " 119: 0.6250970331929184,\n",
       " 12: 0.6933024927311117,\n",
       " 120: 0.6588383523785709,\n",
       " 121: 0.6182235897307597,\n",
       " 122: 0.6252087805136852,\n",
       " 123: 0.6347328154299839,\n",
       " 124: 0.7083711014155659,\n",
       " 125: 0.5502201349889113,\n",
       " 126: 0.6757244971041048,\n",
       " 127: 0.683853981387107,\n",
       " 128: 0.6827228036749657,\n",
       " 129: 0.6865055631534278,\n",
       " 13: 0.7332985773042573,\n",
       " 130: 0.7020898605563763,\n",
       " 131: 0.614947733631925,\n",
       " 132: 0.6251978272020682,\n",
       " 133: 0.5785710375373815,\n",
       " 134: 0.6693939512570901,\n",
       " 135: 0.6737910294282033,\n",
       " 136: 0.6338093317998658,\n",
       " 137: 0.6592785288238147,\n",
       " 138: 0.6339364859555094,\n",
       " 139: 0.6728463188266504,\n",
       " 14: 0.6673439108351988,\n",
       " 140: 0.6671689629835751,\n",
       " 141: 0.561890200998888,\n",
       " 142: 0.5644648896425964,\n",
       " 143: 0.543022891422515,\n",
       " 144: 0.5498255738840547,\n",
       " 145: 0.5678117489202686,\n",
       " 146: 0.6830368080783114,\n",
       " 147: 0.5461736827327046,\n",
       " 148: 0.5439131375717445,\n",
       " 149: 0.6400506940938833,\n",
       " 15: 0.6869581169501435,\n",
       " 150: 0.608691883212578,\n",
       " 151: 0.5877209017312579,\n",
       " 152: 0.615992055124077,\n",
       " 153: 0.6413417816078862,\n",
       " 154: 0.6134495697289091,\n",
       " 155: 0.6126839032460358,\n",
       " 156: 0.6139084233322822,\n",
       " 157: 0.6000318901792607,\n",
       " 158: 0.6717748260391143,\n",
       " 159: 0.5662906650066334,\n",
       " 16: 0.654587883725817,\n",
       " 160: 0.6326678348424739,\n",
       " 161: 0.6066381736898865,\n",
       " 162: 0.6162431465018968,\n",
       " 163: 0.6391031271163365,\n",
       " 17: 0.7148520335834199,\n",
       " 18: 0.6615859030732416,\n",
       " 19: 0.6992226994221387,\n",
       " 2: 0.7374524046524684,\n",
       " 20: 0.7007119035711153,\n",
       " 21: 0.8130862699253621,\n",
       " 22: 0.6812157581280833,\n",
       " 23: 0.6910923995935757,\n",
       " 24: 0.6959667794985341,\n",
       " 25: 0.6916562750262076,\n",
       " 26: 0.6753002733227182,\n",
       " 27: 0.5830538849858561,\n",
       " 28: 0.6384176256924395,\n",
       " 29: 0.6600769474815363,\n",
       " 3: 0.7486715740693598,\n",
       " 30: 0.6271656068133948,\n",
       " 31: 0.7021011262088344,\n",
       " 32: 0.6669252591789956,\n",
       " 33: 0.6678443870781078,\n",
       " 34: 0.6411068247060417,\n",
       " 35: 0.6715982106192588,\n",
       " 36: 0.6788687977526706,\n",
       " 37: 0.7129011664587196,\n",
       " 38: 0.7060679410179885,\n",
       " 39: 0.6855803952670041,\n",
       " 4: 0.6470840140371927,\n",
       " 40: 0.5373277733558885,\n",
       " 41: 0.5686178975649883,\n",
       " 42: 0.5404204454013548,\n",
       " 43: 0.5600677914193335,\n",
       " 44: 0.5616384051926654,\n",
       " 45: 0.5581062653506628,\n",
       " 46: 0.6204335806259793,\n",
       " 47: 0.5304417284168961,\n",
       " 48: 0.8416750570176534,\n",
       " 49: 0.6881918242401198,\n",
       " 5: 0.6079119574284074,\n",
       " 50: 0.6530933340481482,\n",
       " 51: 0.6618952652513325,\n",
       " 52: 0.6668296742700044,\n",
       " 53: 0.6202133835212904,\n",
       " 54: 0.6099094342531127,\n",
       " 55: 0.6322832874246653,\n",
       " 56: 0.5656183654528207,\n",
       " 57: 0.5472173418887228,\n",
       " 58: 0.5663830331319104,\n",
       " 59: 0.48230087253655113,\n",
       " 6: 0.6808326800090606,\n",
       " 60: 0.5330838554706825,\n",
       " 61: 0.5757318789829722,\n",
       " 62: 0.4984243414169345,\n",
       " 63: 0.5634285241644309,\n",
       " 64: 0.5949476245504397,\n",
       " 65: 0.5400808531453344,\n",
       " 66: 0.6388366916868748,\n",
       " 67: 0.5492745972718547,\n",
       " 68: 0.5703517544293796,\n",
       " 69: 0.5684950802634063,\n",
       " 7: 0.7686093455267898,\n",
       " 70: 0.5586258765264035,\n",
       " 71: 0.5135911661088394,\n",
       " 72: 0.6141422243864707,\n",
       " 73: 0.5630150678199078,\n",
       " 74: 0.6310723609077324,\n",
       " 75: 0.5835150844643527,\n",
       " 76: 0.5838667752895299,\n",
       " 77: 0.6089379956553056,\n",
       " 78: 0.5974284389579863,\n",
       " 79: 0.6211654776726119,\n",
       " 8: 0.7899856875306915,\n",
       " 80: 0.5691035903799501,\n",
       " 81: 0.6085222085578688,\n",
       " 82: 0.5219030169958205,\n",
       " 83: 0.6134667435050887,\n",
       " 84: 0.5635307349593894,\n",
       " 85: 0.5322892789082747,\n",
       " 86: 0.5707844061742745,\n",
       " 87: 0.5632158979954066,\n",
       " 88: 0.571744008209252,\n",
       " 89: 0.5576447785310599,\n",
       " 9: 0.7004494979919679,\n",
       " 90: 0.5298551413850711,\n",
       " 91: 0.5363115363508204,\n",
       " 92: 0.6054328289911004,\n",
       " 93: 0.6410277502205881,\n",
       " 94: 0.6383496187371059,\n",
       " 95: 0.5443638584602372,\n",
       " 96: 0.5429986996726733,\n",
       " 97: 0.5360953116201906,\n",
       " 98: 0.5355742959006609,\n",
       " 99: 0.6641013541542671,\n",
       " 'micro': 0.6495191321002496}"
      ]
     },
     "execution_count": 22,
     "metadata": {},
     "output_type": "execute_result"
    }
   ],
   "source": [
    "roc_auc"
   ]
  }
 ],
 "metadata": {
  "kernelspec": {
   "display_name": "Python 3",
   "language": "python",
   "name": "python3"
  },
  "language_info": {
   "codemirror_mode": {
    "name": "ipython",
    "version": 3
   },
   "file_extension": ".py",
   "mimetype": "text/x-python",
   "name": "python",
   "nbconvert_exporter": "python",
   "pygments_lexer": "ipython3",
   "version": "3.6.4"
  }
 },
 "nbformat": 4,
 "nbformat_minor": 2
}
