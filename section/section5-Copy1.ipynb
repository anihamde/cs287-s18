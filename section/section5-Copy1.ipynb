{
 "cells": [
  {
   "cell_type": "code",
   "execution_count": 1,
   "metadata": {
    "collapsed": true
   },
   "outputs": [],
   "source": [
    "import torch\n",
    "import torch.nn as nn\n",
    "from torch.autograd import Variable as V\n",
    "import torch.nn.functional as F\n",
    "\n",
    "\n",
    "# New stuff.\n",
    "from torch.distributions import Normal\n",
    "from torch.distributions.kl import kl_divergence"
   ]
  },
  {
   "cell_type": "code",
   "execution_count": 2,
   "metadata": {},
   "outputs": [
    {
     "data": {
      "text/plain": [
       "<matplotlib.collections.PathCollection at 0x22aff851710>"
      ]
     },
     "execution_count": 2,
     "metadata": {},
     "output_type": "execute_result"
    },
    {
     "data": {
      "image/png": "[encoded data removed]",
      "text/plain": [
       "<matplotlib.figure.Figure at 0x22afcf97a58>"
      ]
     },
     "metadata": {},
     "output_type": "display_data"
    }
   ],
   "source": [
    "import numpy as np\n",
    "import matplotlib.pyplot as plt\n",
    "%matplotlib inline\n",
    "r = np.random.random([3000,2]) * 2 - 1.0\n",
    "# Label points within a circle.\n",
    "X = np.array([r[i] for i in range(r.shape[0]) if r[i,0] < -0.8 or r[i,0] > 0.8 ] )# and np.linalg.norm(r[i]) > 0.7])\n",
    "plt.scatter(x =X[:, 0], y = X[:, 1])"
   ]
  },
  {
   "cell_type": "code",
   "execution_count": 3,
   "metadata": {
    "collapsed": true
   },
   "outputs": [],
   "source": [
    "LATENT_DIM = 8\n",
    "\n",
    "# Compute the variational parameters for q\n",
    "class Encoder(nn.Module):\n",
    "    def __init__(self):\n",
    "        super(Encoder, self).__init__()\n",
    "        self.linear1 = nn.Linear(2, 200)\n",
    "        self.linear2 = nn.Linear(200, LATENT_DIM)\n",
    "        self.linear3 = nn.Linear(200, LATENT_DIM)\n",
    "\n",
    "    def forward(self, x):\n",
    "        h = F.relu(self.linear1(x))\n",
    "        return self.linear2(h), self.linear3(h) "
   ]
  },
  {
   "cell_type": "code",
   "execution_count": 4,
   "metadata": {
    "collapsed": true
   },
   "outputs": [],
   "source": [
    "# Implement the generative model p(x | z)\n",
    "class Decoder(nn.Module):\n",
    "    def __init__(self):\n",
    "        super(Decoder, self).__init__()\n",
    "        self.linear1 = nn.Linear(LATENT_DIM, 200)\n",
    "        self.linear2 = nn.Linear(200, 2)\n",
    "\n",
    "    def forward(self, z):\n",
    "        return self.linear2(F.relu(self.linear1(z)))"
   ]
  },
  {
   "cell_type": "code",
   "execution_count": 5,
   "metadata": {
    "collapsed": true
   },
   "outputs": [],
   "source": [
    "# VAE using reparameterization \"rsample\"\n",
    "\n",
    "class NormalVAE(nn.Module):\n",
    "    def __init__(self, encoder, decoder):\n",
    "        super(NormalVAE, self).__init__()\n",
    "\n",
    "        # Parameters phi and computes variational parameters lambda\n",
    "        self.encoder = encoder\n",
    "\n",
    "        # Parameters theta, p(x | z)\n",
    "        self.decoder = decoder\n",
    "    \n",
    "    def forward(self, x_src):\n",
    "        # Example variational parameters lambda\n",
    "        mu, logvar = self.encoder(x_src)\n",
    "        \n",
    "        q_normal = Normal(loc=mu, scale=logvar.mul(0.5).exp())\n",
    "\n",
    "        # Reparameterized sample.\n",
    "        z_sample = q_normal.rsample()\n",
    "        #z_sample = mu\n",
    "        return self.decoder(z_sample), q_normal        "
   ]
  },
  {
   "cell_type": "code",
   "execution_count": null,
   "metadata": {
    "collapsed": true
   },
   "outputs": [],
   "source": [
    "BATCH_SIZE = 32\n",
    "\n",
    "mse_loss = nn.L1Loss(size_average=False)\n",
    "\n",
    "# Problem setup.\n",
    "encoder = Encoder()\n",
    "decoder = Decoder()\n",
    "vae = NormalVAE(encoder, decoder)\n",
    "\n",
    "# SGD\n",
    "learning_rate = 0.02\n",
    "optim = torch.optim.SGD(vae.parameters(), lr = learning_rate)\n",
    "\n",
    "NUM_EPOCHS = 50\n",
    "\n",
    "# Get samples.\n",
    "p = Normal(V(torch.zeros(BATCH_SIZE, LATENT_DIM)), \n",
    "           V(torch.ones(BATCH_SIZE, LATENT_DIM)))\n",
    "\n",
    "\n",
    "for epoch in range(NUM_EPOCHS):\n",
    "    # Keep track of reconstruction loss and total kl\n",
    "    total_loss = 0\n",
    "    total_kl = 0\n",
    "    total = 0\n",
    "    alpha = 1\n",
    "    for i, t in enumerate(X, BATCH_SIZE):\n",
    "        if X[i:i+BATCH_SIZE].shape[0] < BATCH_SIZE : continue\n",
    "\n",
    "        # Standard setup. \n",
    "        vae.zero_grad()\n",
    "        x = V(torch.FloatTensor(X[i: i+BATCH_SIZE] ))\n",
    "\n",
    "        # Run VAE. \n",
    "        out, q = vae(x)\n",
    "        kl = kl_divergence(q, p).sum()\n",
    "\n",
    "        # actual loss\n",
    "        loss = mse_loss(out, x) + alpha * kl \n",
    "        loss = loss / BATCH_SIZE\n",
    "\n",
    "        # record keeping.\n",
    "        total_loss += mse_loss(out, x).data / BATCH_SIZE\n",
    "        total_kl += kl.data / BATCH_SIZE\n",
    "        total += 1\n",
    "        loss.backward()\n",
    "        optim.step()\n",
    "    graph_vae()\n",
    "    print(i, total_loss[0] / total , total_kl[0] / total)"
   ]
  },
  {
   "cell_type": "code",
   "execution_count": 9,
   "metadata": {},
   "outputs": [],
   "source": [
    "# 634 1.2236697726779513 0.08741735529016566\n",
    "# 634 1.1858184814453125 0.10285142969202113\n",
    "# 634 1.1673569290726273 0.11373414640073423\n",
    "# 634 1.1217796043113426 0.132163902565285\n",
    "# 634 1.0838296395760996 0.15316701818395545\n",
    "# 634 1.0764360215928819 0.16041946411132812\n",
    "# 634 1.076873779296875 0.1639566209581163\n",
    "# pictures of 2D std normal samples that gradually move out to the edges"
   ]
  },
  {
   "cell_type": "code",
   "execution_count": 12,
   "metadata": {},
   "outputs": [],
   "source": [
    "seed_distribution = Normal(V(torch.zeros(BATCH_SIZE, LATENT_DIM)), \n",
    "                        V(torch.ones(BATCH_SIZE, LATENT_DIM)))"
   ]
  },
  {
   "cell_type": "code",
   "execution_count": 15,
   "metadata": {
    "scrolled": true
   },
   "outputs": [
    {
     "data": {
      "text/plain": [
       "Variable containing:\n",
       "-0.5953\n",
       " 1.8301\n",
       "-0.2908\n",
       " 0.4485\n",
       " 1.0575\n",
       " 0.3450\n",
       " 1.4554\n",
       " 1.5685\n",
       "[torch.FloatTensor of size 8]"
      ]
     },
     "execution_count": 15,
     "metadata": {},
     "output_type": "execute_result"
    }
   ],
   "source": [
    "seed_distribution.sample()[0]"
   ]
  },
  {
   "cell_type": "code",
   "execution_count": 7,
   "metadata": {},
   "outputs": [
    {
     "data": {
      "image/png": "[encoded data removed]",
      "text/plain": [
       "<matplotlib.figure.Figure at 0x7fc2b87737f0>"
      ]
     },
     "metadata": {},
     "output_type": "display_data"
    }
   ],
   "source": [
    "seed_distribution = Normal(V(torch.zeros(BATCH_SIZE, LATENT_DIM)), \n",
    "                        V(torch.ones(BATCH_SIZE, LATENT_DIM)))\n",
    "def graph_vae():\n",
    "    fig, axs = plt.subplots(1,1)\n",
    "    all = []\n",
    "    all_out = []\n",
    "    for k in range(500):\n",
    "        seed =  seed_distribution.sample() # batch_size,latent_dim\n",
    "        x = decoder(seed[0:1] ) # 1,latent_dim -> 1,2\n",
    "        all.append(x.data[0].numpy())\n",
    "       \n",
    "    all = np.array(all)\n",
    "    axs.scatter(all[:, 0], all[:, 1])\n",
    "\n",
    "graph_vae()"
   ]
  },
  {
   "cell_type": "code",
   "execution_count": 9,
   "metadata": {},
   "outputs": [
    {
     "name": "stdout",
     "output_type": "stream",
     "text": [
      "Variable containing:\n",
      "-0.0096\n",
      " 0.6418\n",
      "-0.0016\n",
      " 0.0111\n",
      "-0.0200\n",
      "-0.0055\n",
      "-0.0091\n",
      " 0.0317\n",
      "[torch.FloatTensor of size (8,)]\n",
      "\n",
      "Variable containing:\n",
      "-0.0031\n",
      "-0.5853\n",
      "-0.0035\n",
      "-0.0072\n",
      " 0.0119\n",
      " 0.0182\n",
      " 0.0068\n",
      "-0.0391\n",
      "[torch.FloatTensor of size (8,)]\n",
      "\n"
     ]
    }
   ],
   "source": [
    "# unlike the pset, x is 2-dimensional and latent z is 8-dimensional\n",
    "print(encoder(V(torch.FloatTensor([-1, 0])) )[0] )\n",
    "print(encoder(V(torch.FloatTensor([1, 0])) )[0])"
   ]
  },
  {
   "cell_type": "code",
   "execution_count": 10,
   "metadata": {},
   "outputs": [
    {
     "data": {
      "text/plain": [
       "<matplotlib.collections.PathCollection at 0x7fc292f5fb70>"
      ]
     },
     "execution_count": 10,
     "metadata": {},
     "output_type": "execute_result"
    },
    {
     "data": {
      "image/png": "[encoded data removed]",
      "text/plain": [
       "<matplotlib.figure.Figure at 0x7fc29c53e6a0>"
      ]
     },
     "metadata": {},
     "output_type": "display_data"
    }
   ],
   "source": [
    "z = V(torch.zeros(8))\n",
    "\n",
    "all = []\n",
    "for k in np.linspace(-3, 3, 30):\n",
    "    seed = seed_distribution.sample()\n",
    "    # missing z=seed?\n",
    "    z[1] = k\n",
    "    x = decoder(z)\n",
    "    all.append(x.data.numpy())\n",
    "all = np.array(all)\n",
    "plt.scatter(all[:, 0], all[:, 1])"
   ]
  },
  {
   "cell_type": "code",
   "execution_count": 21,
   "metadata": {},
   "outputs": [
    {
     "data": {
      "text/plain": [
       "<matplotlib.collections.PathCollection at 0x7fc2d86c5588>"
      ]
     },
     "execution_count": 21,
     "metadata": {},
     "output_type": "execute_result"
    },
    {
     "data": {
      "image/png": "[encoded data removed]",
      "text/plain": [
       "<matplotlib.figure.Figure at 0x7fc2938793c8>"
      ]
     },
     "metadata": {},
     "output_type": "display_data"
    }
   ],
   "source": [
    "# GAN\n",
    "import numpy as np\n",
    "import matplotlib.pyplot as plt\n",
    "%matplotlib inline\n",
    "r = np.random.random([1000,2]) * 2 - 1.0\n",
    "# Label points within a circle.\n",
    "X = np.array([r[i] for i in range(r.shape[0]) if np.linalg.norm(r[i]) > 0.5 ])\n",
    "plt.scatter(x =X[:, 0], y = X[:, 1])"
   ]
  },
  {
   "cell_type": "code",
   "execution_count": 25,
   "metadata": {
    "collapsed": true
   },
   "outputs": [],
   "source": [
    "LATENT_DIM = 32\n",
    "class Generator(nn.Module):\n",
    "    def __init__(self):\n",
    "        super(Generator, self).__init__()\n",
    "        self.linear1 = nn.Linear(LATENT_DIM, 100)\n",
    "        self.linear2 = nn.Linear(100, 2)\n",
    "    def forward(self, z):\n",
    "        return self.linear2(F.relu(self.linear1(z))) "
   ]
  },
  {
   "cell_type": "code",
   "execution_count": 26,
   "metadata": {
    "collapsed": true
   },
   "outputs": [],
   "source": [
    "class Discriminator(nn.Module):\n",
    "    def __init__(self):\n",
    "        super(Discriminator, self).__init__()\n",
    "        self.linear1 = nn.Linear(2, 100)\n",
    "        self.linear2 = nn.Linear(100, 1)\n",
    "\n",
    "    def forward(self, point):\n",
    "        return F.sigmoid(self.linear2(F.relu(self.linear1(point))))\n"
   ]
  },
  {
   "cell_type": "code",
   "execution_count": 27,
   "metadata": {
    "collapsed": true
   },
   "outputs": [],
   "source": [
    "G = Generator()\n",
    "D = Discriminator()\n",
    "learning_rate = 0.01\n",
    "optim_gen = torch.optim.SGD(G.parameters(), lr=learning_rate)\n",
    "optim_disc = torch.optim.SGD(D.parameters(), lr=learning_rate)\n",
    "seed_distribution = Normal(V(torch.zeros(BATCH_SIZE, LATENT_DIM)), \n",
    "                           V(torch.ones(BATCH_SIZE, LATENT_DIM)))       "
   ]
  },
  {
   "cell_type": "code",
   "execution_count": null,
   "metadata": {
    "collapsed": true
   },
   "outputs": [],
   "source": [
    "for epoch in range(50):\n",
    "    total_gen_loss = 0\n",
    "    total_disc_loss = 0\n",
    "    for i, t in enumerate(X, BATCH_SIZE):\n",
    "        if X[i:i+BATCH_SIZE].shape[0] < BATCH_SIZE : continue\n",
    "\n",
    "        # Grad real\n",
    "        # -E[log(D(x))]\n",
    "        optim_disc.zero_grad()\n",
    "        optim_gen.zero_grad()\n",
    "        x_real = V(torch.FloatTensor(X[i:i+BATCH_SIZE]))\n",
    "        d = D(x_real)\n",
    "        loss_a = 0.5 * -d.log().mean()\n",
    "        loss_a.backward()\n",
    "        \n",
    "        # Grad fake\n",
    "        # -E[log(1 - D(G(z)) )]\n",
    "        seed = seed_distribution.sample()\n",
    "        x_fake = G(seed)\n",
    "        d = D(x_fake.detach())        \n",
    "        loss_b = 0.5 * -(1 - d + 1e-10).log().mean()\n",
    "        loss_b.backward()\n",
    "        optim_disc.step()\n",
    "        total_disc_loss += loss_a.data[0] + loss_b.data[0]\n",
    "\n",
    "        # Grad generator\n",
    "        # E[log(1 - D(G(z)))]\n",
    "        optim_disc.zero_grad()\n",
    "        # No detach here.\n",
    "        d = D(x_fake)\n",
    "        loss_c = (1 - d + 1e-10).log().mean()\n",
    "        #loss_c = -(d + 1e-10).log().mean()\n",
    "        loss_c.backward()        \n",
    "        optim_gen.step()    \n",
    "        total_gen_loss += loss_c.data[0]\n",
    "    graph()\n",
    "    print(i, total_disc_loss /  X.shape[0], total_gen_loss / X.shape[0])"
   ]
  },
  {
   "cell_type": "code",
   "execution_count": 16,
   "metadata": {
    "scrolled": true
   },
   "outputs": [],
   "source": [
    "# 805 0.6228364937835269 -0.6256048729792429\n",
    "# 805 0.6245231784360353 -0.6139289883064053\n",
    "# 805 0.6199491622374039 -0.6103112843147543\n",
    "# 805 0.6288603526523255 -0.6256580240350669\n",
    "# 805 0.6261372029088265 -0.6216000795210362\n",
    "# 805 0.6270622593718905 -0.6234798616987174\n",
    "# 805 0.6248599717860382 -0.6206227497845042\n",
    "# blue and red moving around with each other"
   ]
  },
  {
   "cell_type": "code",
   "execution_count": 16,
   "metadata": {},
   "outputs": [
    {
     "data": {
      "image/png": "[encoded data removed]",
      "text/plain": [
       "<matplotlib.figure.Figure at 0x7fc292e89e80>"
      ]
     },
     "metadata": {},
     "output_type": "display_data"
    }
   ],
   "source": [
    "def graph():\n",
    "    fig, axs = plt.subplots(1,1)\n",
    "    all = []\n",
    "    all_out = []\n",
    "    for k in range(500):\n",
    "        seed = seed_distribution.sample()\n",
    "        x_fake = G(seed[0:1])\n",
    "        out = D(x_fake)        \n",
    "        all.append(x_fake.data[0].numpy())\n",
    "        all_out.append(out)\n",
    "    all = np.array(all)\n",
    "    out = np.array(all_out)\n",
    "    axs.scatter(all[:, 0], all[:, 1], color=[\"blue\" if c < 0.5 else \"red\" for c in out])\n",
    "\n",
    "graph()"
   ]
  },
  {
   "cell_type": "code",
   "execution_count": 30,
   "metadata": {
    "collapsed": true
   },
   "outputs": [],
   "source": [
    "import torchtext.data as data\n",
    "import torchtext.datasets as datasets\n",
    "from torchtext.vocab import GloVe"
   ]
  },
  {
   "cell_type": "markdown",
   "metadata": {},
   "source": [
    "This part is slow to run on CPU. But it shows the setup for a Miao (2016) type VAE over text. Here we use powerful encoder in the form of a LSTM. But use a very simple generative model that predicts a set of works (in binary represenation) as the output. The aim is that the latent variable should learn something akin to a topic about the words themseles. "
   ]
  },
  {
   "cell_type": "code",
   "execution_count": 31,
   "metadata": {
    "collapsed": true
   },
   "outputs": [],
   "source": [
    "TEXT = data.Field(lower=True, include_lengths=True, batch_first=True)\n",
    "LABEL = data.Field(sequential=False)\n",
    "\n",
    "# make splits for data\n",
    "train, test = datasets.TREC.splits(TEXT, LABEL, fine_grained=True)\n",
    "TEXT.build_vocab(train, vectors=GloVe(name='6B', dim=100))\n",
    "LABEL.build_vocab(train)"
   ]
  },
  {
   "cell_type": "code",
   "execution_count": 32,
   "metadata": {
    "collapsed": true
   },
   "outputs": [],
   "source": [
    "WORD_DIM = 100\n",
    "LATENT_DIM = 32\n",
    "num_embeddings = len(TEXT.vocab)\n",
    "\n",
    "# LSTM Encoder / Inference Network\n",
    "class Encoder(nn.Module):\n",
    "    def __init__(self, num_embeddings):\n",
    "        super(Encoder, self).__init__()\n",
    "        self.emb_layer = nn.Embedding(embedding_dim=WORD_DIM, \n",
    "                                      num_embeddings=num_embeddings)\n",
    "        self.emb_layer.weight.data = TEXT.vocab.vectors.clone()\n",
    "        self.enc_layer = nn.LSTM(input_size=WORD_DIM, hidden_size=WORD_DIM)\n",
    "        self.mu_layer = nn.Linear(WORD_DIM, LATENT_DIM)\n",
    "        self.logvar_layer = nn.Linear(WORD_DIM, LATENT_DIM)\n",
    "        \n",
    "    def forward(self, src):\n",
    "        emb = self.emb_layer(src)\n",
    "        output, _  = self.enc_layer(emb)\n",
    "        final = output[:, -1]\n",
    "        mu = self.mu_layer(final)\n",
    "        logvar = self.logvar_layer(final)\n",
    "        return mu, logvar"
   ]
  },
  {
   "cell_type": "code",
   "execution_count": 33,
   "metadata": {
    "collapsed": true
   },
   "outputs": [],
   "source": [
    "# Bag-of-Word Generative Model\n",
    "class Decoder(nn.Module):\n",
    "    def __init__(self, num_embeddings):\n",
    "        super(Decoder, self).__init__()\n",
    "        self.layer1 = nn.Linear(LATENT_DIM, 200)\n",
    "        self.layer2 = nn.Linear(200, num_embeddings)\n",
    "    def forward(self, hidden):\n",
    "        return self.layer2(F.relu(self.layer1(hidden)))\n"
   ]
  },
  {
   "cell_type": "code",
   "execution_count": 53,
   "metadata": {},
   "outputs": [
    {
     "ename": "KeyboardInterrupt",
     "evalue": "",
     "output_type": "error",
     "traceback": [
      "\u001b[0;31m---------------------------------------------------------------------------\u001b[0m",
      "\u001b[0;31mKeyboardInterrupt\u001b[0m                         Traceback (most recent call last)",
      "\u001b[0;32m<ipython-input-53-eede04fdd0b0>\u001b[0m in \u001b[0;36m<module>\u001b[0;34m()\u001b[0m\n\u001b[1;32m     32\u001b[0m         \u001b[0mtotal_kl\u001b[0m \u001b[0;34m+=\u001b[0m \u001b[0mkl\u001b[0m\u001b[0;34m.\u001b[0m\u001b[0mdata\u001b[0m \u001b[0;34m/\u001b[0m \u001b[0mBATCH_SIZE\u001b[0m\u001b[0;34m\u001b[0m\u001b[0m\n\u001b[1;32m     33\u001b[0m         \u001b[0mtotal\u001b[0m \u001b[0;34m+=\u001b[0m \u001b[0;36m1\u001b[0m\u001b[0;34m\u001b[0m\u001b[0m\n\u001b[0;32m---> 34\u001b[0;31m         \u001b[0mloss\u001b[0m\u001b[0;34m.\u001b[0m\u001b[0mbackward\u001b[0m\u001b[0;34m(\u001b[0m\u001b[0;34m)\u001b[0m\u001b[0;34m\u001b[0m\u001b[0m\n\u001b[0m\u001b[1;32m     35\u001b[0m         \u001b[0moptim\u001b[0m\u001b[0;34m.\u001b[0m\u001b[0mstep\u001b[0m\u001b[0;34m(\u001b[0m\u001b[0;34m)\u001b[0m\u001b[0;34m\u001b[0m\u001b[0m\n\u001b[1;32m     36\u001b[0m     \u001b[0mgraph_vae\u001b[0m\u001b[0;34m(\u001b[0m\u001b[0;34m)\u001b[0m\u001b[0;34m\u001b[0m\u001b[0m\n",
      "\u001b[0;32m/usr/local/lib/python3.5/dist-packages/torch/autograd/variable.py\u001b[0m in \u001b[0;36mbackward\u001b[0;34m(self, gradient, retain_graph, create_graph)\u001b[0m\n\u001b[1;32m    130\u001b[0m                 \u001b[0mproducts\u001b[0m\u001b[0;34m.\u001b[0m \u001b[0mDefaults\u001b[0m \u001b[0mto\u001b[0m\u001b[0;31m \u001b[0m\u001b[0;31m`\u001b[0m\u001b[0;31m`\u001b[0m\u001b[0;32mFalse\u001b[0m\u001b[0;31m`\u001b[0m\u001b[0;31m`\u001b[0m\u001b[0;34m.\u001b[0m\u001b[0;34m\u001b[0m\u001b[0m\n\u001b[1;32m    131\u001b[0m         \"\"\"\n\u001b[0;32m--> 132\u001b[0;31m         \u001b[0mtorch\u001b[0m\u001b[0;34m.\u001b[0m\u001b[0mautograd\u001b[0m\u001b[0;34m.\u001b[0m\u001b[0mbackward\u001b[0m\u001b[0;34m(\u001b[0m\u001b[0mself\u001b[0m\u001b[0;34m,\u001b[0m \u001b[0mgradient\u001b[0m\u001b[0;34m,\u001b[0m \u001b[0mretain_graph\u001b[0m\u001b[0;34m,\u001b[0m \u001b[0mcreate_graph\u001b[0m\u001b[0;34m)\u001b[0m\u001b[0;34m\u001b[0m\u001b[0m\n\u001b[0m\u001b[1;32m    133\u001b[0m \u001b[0;34m\u001b[0m\u001b[0m\n\u001b[1;32m    134\u001b[0m     \u001b[0;32mdef\u001b[0m \u001b[0mregister_hook\u001b[0m\u001b[0;34m(\u001b[0m\u001b[0mself\u001b[0m\u001b[0;34m,\u001b[0m \u001b[0mhook\u001b[0m\u001b[0;34m)\u001b[0m\u001b[0;34m:\u001b[0m\u001b[0;34m\u001b[0m\u001b[0m\n",
      "\u001b[0;32m/usr/local/lib/python3.5/dist-packages/torch/autograd/__init__.py\u001b[0m in \u001b[0;36mbackward\u001b[0;34m(variables, grad_variables, retain_graph, create_graph)\u001b[0m\n\u001b[1;32m     81\u001b[0m \u001b[0;34m\u001b[0m\u001b[0m\n\u001b[1;32m     82\u001b[0m     Variable._execution_engine.run_backward(\n\u001b[0;32m---> 83\u001b[0;31m         variables, grad_variables, retain_graph, create_graph)\n\u001b[0m\u001b[1;32m     84\u001b[0m \u001b[0;34m\u001b[0m\u001b[0m\n\u001b[1;32m     85\u001b[0m \u001b[0;34m\u001b[0m\u001b[0m\n",
      "\u001b[0;31mKeyboardInterrupt\u001b[0m: "
     ]
    }
   ],
   "source": [
    "BATCH_SIZE = 32\n",
    "train_iter, test_iter = data.BucketIterator.splits(\n",
    "    (train, test), batch_size=BATCH_SIZE, device=-1)\n",
    "bce = nn.BCEWithLogitsLoss(size_average=False)\n",
    "encoder = Encoder(len(TEXT.vocab))\n",
    "decoder = Decoder(len(TEXT.vocab))\n",
    "vae = NormalVAE(encoder, decoder)\n",
    "learning_rate = 0.01\n",
    "optim = torch.optim.SGD(vae.parameters(), lr = learning_rate)\n",
    "#optim = torch.optim.Adam(vae.parameters(), lr = learning_rate)\n",
    "NUM_EPOCHS = 50\n",
    "p = Normal(V(torch.zeros(BATCH_SIZE, LATENT_DIM)), V(torch.ones(BATCH_SIZE, LATENT_DIM)))\n",
    "\n",
    "for epoch in range(NUM_EPOCHS):\n",
    "    total_loss = 0\n",
    "    total_kl = 0\n",
    "    total = 0\n",
    "    alpha = 1\n",
    "    for i, t in enumerate(train_iter):\n",
    "        if t.label.size(0) != BATCH_SIZE : continue\n",
    "        vae.zero_grad()\n",
    "        x, _ = t.text\n",
    "        out, q = vae(x)\n",
    "        kl = kl_divergence(q, p).sum()\n",
    "        target = torch.zeros(BATCH_SIZE, len(TEXT.vocab)).float()\n",
    "        for b in range(BATCH_SIZE):\n",
    "            target[b][t.text[0].data[b]] =  1   \n",
    "        loss = bce(out.view(-1), V(target.view(-1) ) ) + alpha * kl \n",
    "        loss = loss / BATCH_SIZE\n",
    "        \n",
    "        total_loss += bce(out.view(-1), V(target.view(-1) ) ).data / BATCH_SIZE\n",
    "        total_kl += kl.data / BATCH_SIZE\n",
    "        total += 1\n",
    "        loss.backward()\n",
    "        optim.step()\n",
    "    print(i, total_loss[0] / total , total_kl[0] / total)"
   ]
  },
  {
   "cell_type": "code",
   "execution_count": 3,
   "metadata": {},
   "outputs": [],
   "source": [
    "import torch\n",
    "import torchvision.datasets as datasets\n",
    "import torchvision.transforms as transforms\n",
    "train_dataset = datasets.MNIST(root='./data/',\n",
    "                            train=True, \n",
    "                            transform=transforms.ToTensor(),\n",
    "                            download=True)\n",
    "test_dataset = datasets.MNIST(root='./data/',\n",
    "                           train=False, \n",
    "                           transform=transforms.ToTensor())"
   ]
  },
  {
   "cell_type": "code",
   "execution_count": 4,
   "metadata": {},
   "outputs": [
    {
     "name": "stdout",
     "output_type": "stream",
     "text": [
      "60000\n",
      "10000\n",
      "torch.Size([1, 28, 28])\n"
     ]
    },
    {
     "data": {
      "text/plain": [
       "5"
      ]
     },
     "execution_count": 4,
     "metadata": {},
     "output_type": "execute_result"
    }
   ],
   "source": [
    "print(len(train_dataset))\n",
    "print(len(test_dataset))\n",
    "print(train_dataset[0][0].shape) # pixels\n",
    "train_dataset[0][1] # label (which digit it is)\n",
    "# train_dataset is a list of tuples. first elt is 1*28*28, second elt is label"
   ]
  },
  {
   "cell_type": "code",
   "execution_count": 40,
   "metadata": {},
   "outputs": [
    {
     "name": "stdout",
     "output_type": "stream",
     "text": [
      "torch.Size([60000, 1, 28, 28]) torch.Size([60000]) torch.Size([10000, 1, 28, 28]) torch.Size([10000])\n"
     ]
    }
   ],
   "source": [
    "torch.manual_seed(3435)\n",
    "train_img = torch.stack([torch.bernoulli(d[0]) for d in train_dataset])\n",
    "train_label = torch.LongTensor([d[1] for d in train_dataset])\n",
    "test_img = torch.stack([torch.bernoulli(d[0]) for d in test_dataset])\n",
    "test_label = torch.LongTensor([d[1] for d in test_dataset])\n",
    "# print(train_img[0])\n",
    "print(train_img.size(), train_label.size(), test_img.size(), test_label.size())"
   ]
  },
  {
   "cell_type": "code",
   "execution_count": 27,
   "metadata": {},
   "outputs": [],
   "source": [
    "# MNIST does not have an official train dataset. So we will use the last 10000 training points as your validation set.\n",
    "val_img = train_img[-10000:].clone()\n",
    "val_label = train_label[-10000:].clone()\n",
    "train_img = train_img[:-10000] # hey this should be -10000 right?\n",
    "train_label = train_label[:-10000]\n",
    "train = torch.utils.data.TensorDataset(train_img, train_label)\n",
    "val = torch.utils.data.TensorDataset(val_img, val_label)\n",
    "test = torch.utils.data.TensorDataset(test_img, test_label)\n",
    "BATCH_SIZE = 100\n",
    "train_loader = torch.utils.data.DataLoader(train, batch_size=BATCH_SIZE, shuffle=True)\n",
    "val_loader = torch.utils.data.DataLoader(val, batch_size=BATCH_SIZE, shuffle=True)\n",
    "test_loader = torch.utils.data.DataLoader(test, batch_size=BATCH_SIZE, shuffle=True)"
   ]
  },
  {
   "cell_type": "code",
   "execution_count": null,
   "metadata": {},
   "outputs": [],
   "source": []
  },
  {
   "cell_type": "code",
   "execution_count": 50,
   "metadata": {},
   "outputs": [
    {
     "data": {
      "text/plain": [
       "<matplotlib.image.AxesImage at 0x174163118d0>"
      ]
     },
     "execution_count": 50,
     "metadata": {},
     "output_type": "execute_result"
    },
    {
     "data": {
      "image/png": "[encoded data removed]",
      "text/plain": [
       "<matplotlib.figure.Figure at 0x1741626f550>"
      ]
     },
     "metadata": {},
     "output_type": "display_data"
    }
   ],
   "source": [
    "img, label = next(iter(train_loader))\n",
    "print(img.size(),label.size())\n",
    "x = img.squeeze(1)\n",
    "j = x[0].numpy()\n",
    "plt.imshow(j)\n",
    "plt.imshow(j.flatten().reshape(28,28))\n",
    "x = x.view(-1,784)\n",
    "x = x.view(-1,28,28)\n",
    "j = x[0].numpy()\n",
    "plt.imshow(j)"
   ]
  },
  {
   "cell_type": "code",
   "execution_count": null,
   "metadata": {
    "collapsed": true
   },
   "outputs": [],
   "source": []
  },
  {
   "cell_type": "code",
   "execution_count": null,
   "metadata": {},
   "outputs": [],
   "source": []
  },
  {
   "cell_type": "code",
   "execution_count": null,
   "metadata": {},
   "outputs": [],
   "source": []
  }
 ],
 "metadata": {
  "kernelspec": {
   "display_name": "Python 3",
   "language": "python",
   "name": "python3"
  },
  "language_info": {
   "codemirror_mode": {
    "name": "ipython",
    "version": 3
   },
   "file_extension": ".py",
   "mimetype": "text/x-python",
   "name": "python",
   "nbconvert_exporter": "python",
   "pygments_lexer": "ipython3",
   "version": "3.5.2"
  }
 },
 "nbformat": 4,
 "nbformat_minor": 2
}
