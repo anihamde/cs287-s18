{
 "cells": [
  {
   "cell_type": "markdown",
   "metadata": {
    "deletable": true,
    "editable": true
   },
   "source": [
    "# HW 1 Classification"
   ]
  },
  {
   "cell_type": "markdown",
   "metadata": {
    "deletable": true,
    "editable": true
   },
   "source": [
    "In this homework you will be building several varieties of text classifiers.\n",
    "\n",
    "## Goal\n",
    "\n",
    "We ask that you construct the following models in PyTorch:\n",
    "\n",
    "1. A naive Bayes unigram classifer (follow Wang and Manning http://www.aclweb.org/anthology/P/P12/P12-2.pdf#page=118: you should only implement Naive Bayes, not the combined classifer with SVM).\n",
    "2. A logistic regression model over word types (you can implement this as $y = \\sigma(\\sum_i W x_i + b)$) \n",
    "3. A continuous bag-of-word neural network with embeddings (similar to CBOW in Mikolov et al https://arxiv.org/pdf/1301.3781.pdf).\n",
    "4. A simple convolutional neural network (any variant of CNN as described in Kim http://aclweb.org/anthology/D/D14/D14-1181.pdf).\n",
    "5. Your own extensions to these models...\n",
    "\n",
    "Consult the papers provided for hyperparameters. \n"
   ]
  },
  {
   "cell_type": "markdown",
   "metadata": {
    "deletable": true,
    "editable": true
   },
   "source": [
    "## Setup\n",
    "\n",
    "This notebook provides a working definition of the setup of the problem itself. You may construct your models inline or use an external setup (preferred) to build your system."
   ]
  },
  {
   "cell_type": "code",
   "execution_count": 1,
   "metadata": {
    "collapsed": false,
    "deletable": true,
    "editable": true
   },
   "outputs": [
    {
     "name": "stdout",
     "output_type": "stream",
     "text": [
      "Requirement already satisfied: torchtext in c:\\users\\owner\\anaconda3\\lib\\site-packages\n"
     ]
    }
   ],
   "source": [
    "!pip install torchtext"
   ]
  },
  {
   "cell_type": "code",
   "execution_count": 39,
   "metadata": {
    "collapsed": true,
    "deletable": true,
    "editable": true
   },
   "outputs": [],
   "source": [
    "# Text text processing library and methods for pretrained word embeddings\n",
    "import torchtext\n",
    "from torchtext.vocab import Vectors, GloVe\n",
    "\n",
    "import numpy as np\n",
    "import torch\n",
    "from torch.autograd import Variable\n",
    "import torch.nn as nn"
   ]
  },
  {
   "cell_type": "markdown",
   "metadata": {
    "deletable": true,
    "editable": true
   },
   "source": [
    "The dataset we will use of this problem is known as the Stanford Sentiment Treebank (https://nlp.stanford.edu/~socherr/EMNLP2013_RNTN.pdf). It is a variant of a standard sentiment classification task. For simplicity, we will use the most basic form. Classifying a sentence as positive or negative in sentiment. "
   ]
  },
  {
   "cell_type": "markdown",
   "metadata": {
    "deletable": true,
    "editable": true
   },
   "source": [
    "To start, `torchtext` requires that we define a mapping from the raw text data to featurized indices. These fields make it easy to map back and forth between readable data and math, which helps for debugging."
   ]
  },
  {
   "cell_type": "code",
   "execution_count": 2,
   "metadata": {
    "collapsed": true,
    "deletable": true,
    "editable": true
   },
   "outputs": [],
   "source": [
    "# Our input $x$\n",
    "TEXT = torchtext.data.Field()\n",
    "\n",
    "# Our labels $y$\n",
    "LABEL = torchtext.data.Field(sequential=False)"
   ]
  },
  {
   "cell_type": "markdown",
   "metadata": {
    "deletable": true,
    "editable": true
   },
   "source": [
    "Next we input our data. Here we will use the standard SST train split, and tell it the fields."
   ]
  },
  {
   "cell_type": "code",
   "execution_count": 3,
   "metadata": {
    "collapsed": false,
    "deletable": true,
    "editable": true
   },
   "outputs": [],
   "source": [
    "train, val, test = torchtext.datasets.SST.splits(\n",
    "    TEXT, LABEL,\n",
    "    filter_pred=lambda ex: ex.label != 'neutral')"
   ]
  },
  {
   "cell_type": "markdown",
   "metadata": {
    "deletable": true,
    "editable": true
   },
   "source": [
    "Let's look at this data. It's still in its original form, we can see that each example consists of a label and the original words."
   ]
  },
  {
   "cell_type": "code",
   "execution_count": 4,
   "metadata": {
    "collapsed": false
   },
   "outputs": [
    {
     "data": {
      "text/plain": [
       "(torchtext.data.field.Field, torchtext.datasets.sst.SST)"
      ]
     },
     "execution_count": 4,
     "metadata": {},
     "output_type": "execute_result"
    }
   ],
   "source": [
    "type(TEXT), type(train)"
   ]
  },
  {
   "cell_type": "code",
   "execution_count": 5,
   "metadata": {
    "collapsed": false,
    "deletable": true,
    "editable": true
   },
   "outputs": [
    {
     "name": "stdout",
     "output_type": "stream",
     "text": [
      "len(train) 6920\n",
      "vars(train[0]) {'label': 'positive', 'text': ['The', 'Rock', 'is', 'destined', 'to', 'be', 'the', '21st', 'Century', \"'s\", 'new', '``', 'Conan', \"''\", 'and', 'that', 'he', \"'s\", 'going', 'to', 'make', 'a', 'splash', 'even', 'greater', 'than', 'Arnold', 'Schwarzenegger', ',', 'Jean-Claud', 'Van', 'Damme', 'or', 'Steven', 'Segal', '.']}\n"
     ]
    }
   ],
   "source": [
    "print('len(train)', len(train))\n",
    "print('vars(train[0])', vars(train[0]))"
   ]
  },
  {
   "cell_type": "markdown",
   "metadata": {
    "deletable": true,
    "editable": true
   },
   "source": [
    "In order to map this data to features, we need to assign an index to each word an label. The function build vocab allows us to do this and provides useful options that we will need in future assignments."
   ]
  },
  {
   "cell_type": "code",
   "execution_count": 6,
   "metadata": {
    "collapsed": false,
    "deletable": true,
    "editable": true
   },
   "outputs": [
    {
     "name": "stdout",
     "output_type": "stream",
     "text": [
      "len(TEXT.vocab) 16286\n",
      "len(LABEL.vocab) 3\n"
     ]
    }
   ],
   "source": [
    "TEXT.build_vocab(train)\n",
    "LABEL.build_vocab(train)\n",
    "print('len(TEXT.vocab)', len(TEXT.vocab))\n",
    "print('len(LABEL.vocab)', len(LABEL.vocab))"
   ]
  },
  {
   "cell_type": "markdown",
   "metadata": {
    "deletable": true,
    "editable": true
   },
   "source": [
    "Finally we are ready to create batches of our training data that can be used for training and validating the model. This function produces 3 iterators that will let us go through the train, val and test data. "
   ]
  },
  {
   "cell_type": "code",
   "execution_count": 7,
   "metadata": {
    "collapsed": false,
    "deletable": true,
    "editable": true
   },
   "outputs": [],
   "source": [
    "train_iter, val_iter, test_iter = torchtext.data.BucketIterator.splits(\n",
    "    (train, val, test), batch_size=10, device=-1, repeat=False) # added repeat=False based on piazza comment"
   ]
  },
  {
   "cell_type": "markdown",
   "metadata": {
    "deletable": true,
    "editable": true
   },
   "source": [
    "Let's look at a single batch from one of these iterators. The library automatically converts the underlying words into indices. It then produces tensors for batches of x and y. In this case it will consist of the number of words of the longest sentence (with padding) followed by the number of batches. We can use the vocabulary dictionary to convert back from these indices to words."
   ]
  },
  {
   "cell_type": "code",
   "execution_count": 8,
   "metadata": {
    "collapsed": false,
    "deletable": true,
    "editable": true
   },
   "outputs": [
    {
     "name": "stdout",
     "output_type": "stream",
     "text": [
      "Size of text batch [max sent length, batch size] torch.Size([29, 10])\n",
      "Second in batch Variable containing:\n",
      "    28\n",
      "  6294\n",
      "   371\n",
      "     3\n",
      "   300\n",
      "   918\n",
      "     5\n",
      "   167\n",
      " 11872\n",
      "     3\n",
      "    17\n",
      "     7\n",
      "   398\n",
      "   136\n",
      "     3\n",
      " 13622\n",
      "    69\n",
      "     3\n",
      "  2210\n",
      "   217\n",
      "     5\n",
      "     7\n",
      "  5057\n",
      "  7308\n",
      "     6\n",
      "  1005\n",
      "  1730\n",
      "   609\n",
      "     2\n",
      "[torch.LongTensor of size 29]\n",
      "\n",
      "Converted back to string:  ... flat-out amusing , sometimes endearing and often fabulous , with a solid cast , noteworthy characters , delicious dialogue and a wide supply of effective sight gags .\n",
      "Variable containing:\n",
      " 1\n",
      " 1\n",
      " 2\n",
      " 1\n",
      " 1\n",
      " 1\n",
      " 1\n",
      " 1\n",
      " 1\n",
      " 2\n",
      "[torch.LongTensor of size 10]\n",
      "\n"
     ]
    }
   ],
   "source": [
    "batch = next(iter(train_iter))\n",
    "print(\"Size of text batch [max sent length, batch size]\", batch.text.size())\n",
    "print(\"Second in batch\", batch.text[:, 0])\n",
    "print(\"Converted back to string: \", \" \".join([TEXT.vocab.itos[i] for i in batch.text[:, 0].data]))\n",
    "print(batch.label)"
   ]
  },
  {
   "cell_type": "code",
   "execution_count": 10,
   "metadata": {
    "collapsed": false
   },
   "outputs": [
    {
     "name": "stdout",
     "output_type": "stream",
     "text": [
      "torch.Size([5, 10])\n",
      "It 's fun <unk> .\n",
      "Cool ? <pad> <pad> <pad>\n",
      "torch.Size([5, 10])\n",
      "<unk> inept and ridiculous .\n",
      "One from the heart .\n",
      "torch.Size([6, 10])\n",
      "Good old-fashioned <unk> is back !\n",
      "<unk> a real downer ? <pad>\n",
      "torch.Size([6, 10])\n",
      "One long string of cliches .\n",
      "It 's a beautiful madness .\n",
      "torch.Size([7, 10])\n",
      "A tender , heartfelt family drama .\n",
      "At once half-baked and <unk> . <pad>\n",
      "torch.Size([7, 10])\n",
      "Almost gags on its own gore .\n",
      "Good film , but very glum .\n"
     ]
    }
   ],
   "source": [
    "i = 0\n",
    "for batch in val_iter:\n",
    "    if i > 5:\n",
    "        break\n",
    "    i += 1\n",
    "    print(batch.text.size())\n",
    "    print(' '.join([TEXT.vocab.itos[i] for i in batch.text[:, 0].data]))\n",
    "    print(' '.join([TEXT.vocab.itos[i] for i in batch.text[:, 9].data]))"
   ]
  },
  {
   "cell_type": "markdown",
   "metadata": {
    "deletable": true,
    "editable": true
   },
   "source": [
    "Similarly it produces a vector for each of the labels in the batch. "
   ]
  },
  {
   "cell_type": "code",
   "execution_count": 11,
   "metadata": {
    "collapsed": false,
    "deletable": true,
    "editable": true
   },
   "outputs": [
    {
     "name": "stdout",
     "output_type": "stream",
     "text": [
      "Size of label batch [batch size] torch.Size([10])\n",
      "Second in batch Variable containing:\n",
      " 1\n",
      "[torch.LongTensor of size 1]\n",
      "\n",
      "Converted back to string:  positive\n"
     ]
    }
   ],
   "source": [
    "print(\"Size of label batch [batch size]\", batch.label.size())\n",
    "print(\"Second in batch\", batch.label[0])\n",
    "print(\"Converted back to string: \", LABEL.vocab.itos[batch.label.data[0]])"
   ]
  },
  {
   "cell_type": "markdown",
   "metadata": {
    "deletable": true,
    "editable": true
   },
   "source": [
    "Finally the Vocab object can be used to map pretrained word vectors to the indices in the vocabulary. This will be very useful for part 3 and 4 of the problem.  "
   ]
  },
  {
   "cell_type": "code",
   "execution_count": 68,
   "metadata": {
    "collapsed": false,
    "deletable": true,
    "editable": true
   },
   "outputs": [
    {
     "name": "stderr",
     "output_type": "stream",
     "text": [
      ".vector_cache\\wiki.simple.vec: 293MB [01:55, 2.54MB/s]                                                                 \n",
      "100%|████████████████████████████████████████████████████████████████████████| 111052/111052 [00:25<00:00, 4352.78it/s]\n"
     ]
    },
    {
     "name": "stdout",
     "output_type": "stream",
     "text": [
      "Word embeddings size  torch.Size([16286, 300])\n",
      "Word embedding of 'follows', first 10 dim  \n",
      " 0.3925\n",
      "-0.4770\n",
      " 0.1754\n",
      "-0.0845\n",
      " 0.1396\n",
      " 0.3722\n",
      "-0.0878\n",
      "-0.2398\n",
      " 0.0367\n",
      " 0.2800\n",
      "[torch.FloatTensor of size 10]\n",
      "\n"
     ]
    }
   ],
   "source": [
    "# Build the vocabulary with word embeddings\n",
    "url = 'https://s3-us-west-1.amazonaws.com/fasttext-vectors/wiki.simple.vec'\n",
    "TEXT.vocab.load_vectors(vectors=Vectors('wiki.simple.vec', url=url))\n",
    "\n",
    "print(\"Word embeddings size \", TEXT.vocab.vectors.size())\n",
    "print(\"Word embedding of 'follows', first 10 dim \", TEXT.vocab.vectors[TEXT.vocab.stoi['follows']][:10])"
   ]
  },
  {
   "cell_type": "markdown",
   "metadata": {
    "deletable": true,
    "editable": true
   },
   "source": [
    "## Assignment\n",
    "\n",
    "Now it is your turn to build the models described at the top of the assignment. \n",
    "\n",
    "Using the data given by this iterator, you should construct 4 different torch models that take in batch.text and produce a distribution over labels. \n",
    "\n",
    "When a model is trained, use the following test function to produce predictions, and then upload to the kaggle competition:  https://www.kaggle.com/c/harvard-cs281-hw1"
   ]
  },
  {
   "cell_type": "code",
   "execution_count": 71,
   "metadata": {
    "collapsed": true,
    "deletable": true,
    "editable": true
   },
   "outputs": [],
   "source": [
    "def test(model):\n",
    "    \"All models should be able to be run with following command.\"\n",
    "    upload = []\n",
    "    # Update: for kaggle the bucket iterator needs to have batch_size 10\n",
    "    test_iter = torchtext.data.BucketIterator(test, train=False, batch_size=10)\n",
    "    for batch in test_iter:\n",
    "        # Your prediction data here (don't cheat!)\n",
    "        probs = model(batch.text)\n",
    "        _, argmax = probs.max(1)\n",
    "        upload += list(argmax.data)\n",
    "\n",
    "    with open(\"predictions.txt\", \"w\") as f:\n",
    "        for u in upload:\n",
    "            f.write(str(u) + \"\\n\")"
   ]
  },
  {
   "cell_type": "markdown",
   "metadata": {
    "deletable": true,
    "editable": true
   },
   "source": [
    "In addition, you should put up a (short) write-up following the template provided in the repository:  https://github.com/harvard-ml-courses/cs287-s18/blob/master/template/"
   ]
  },
  {
   "cell_type": "markdown",
   "metadata": {},
   "source": [
    "# 1"
   ]
  },
  {
   "cell_type": "code",
   "execution_count": 21,
   "metadata": {
    "collapsed": true
   },
   "outputs": [],
   "source": [
    "alpha = 0 # smoothing\n",
    "p = np.zeros(len(TEXT.vocab)) + alpha\n",
    "q = np.zeros(len(TEXT.vocab)) + alpha\n",
    "ngood = 0\n",
    "nbad = 0"
   ]
  },
  {
   "cell_type": "code",
   "execution_count": 22,
   "metadata": {
    "collapsed": false
   },
   "outputs": [],
   "source": [
    "for batch in train_iter:\n",
    "\tfor i in range(batch.text.size()[1]):\n",
    "\t\tx = batch.text.data.numpy()[:,i]\n",
    "\t\ty = batch.label.data.numpy()[i]\n",
    "\t\tsparse_x = np.zeros(len(TEXT.vocab))\n",
    "\t\tfor word in x:\n",
    "\t\t\tsparse_x[word] = 1 # += 1\n",
    "\t\tif y == 1:\n",
    "\t\t\tp += sparse_x\n",
    "\t\t\tngood += 1\n",
    "\t\telif y == 2:\n",
    "\t\t\tq += sparse_x\n",
    "\t\t\tnbad += 1\n",
    "\t\telse:\n",
    "\t\t\tpass"
   ]
  },
  {
   "cell_type": "code",
   "execution_count": 27,
   "metadata": {
    "collapsed": false
   },
   "outputs": [
    {
     "name": "stderr",
     "output_type": "stream",
     "text": [
      "C:\\Users\\owner\\Anaconda3\\lib\\site-packages\\ipykernel\\__main__.py:1: RuntimeWarning: divide by zero encountered in true_divide\n",
      "  if __name__ == '__main__':\n",
      "C:\\Users\\owner\\Anaconda3\\lib\\site-packages\\ipykernel\\__main__.py:1: RuntimeWarning: invalid value encountered in true_divide\n",
      "  if __name__ == '__main__':\n",
      "C:\\Users\\owner\\Anaconda3\\lib\\site-packages\\ipykernel\\__main__.py:1: RuntimeWarning: divide by zero encountered in log\n",
      "  if __name__ == '__main__':\n"
     ]
    }
   ],
   "source": [
    "r = np.log((p/np.linalg.norm(p))/(q/np.linalg.norm(q)))\n",
    "b = np.log(ngood/nbad)"
   ]
  },
  {
   "cell_type": "code",
   "execution_count": 36,
   "metadata": {
    "collapsed": false
   },
   "outputs": [],
   "source": [
    "# model needs to take in a batch.text and return a bs*2 tensor of probs\n",
    "def predict(text):\n",
    "\tys = torch.zeros(text.size()[1],2)\n",
    "\tfor i in range(text.size()[1]):\n",
    "\t\tx = text.data.numpy()[:,i]\n",
    "\t\tsparse_x = np.zeros(len(TEXT.vocab))\n",
    "\t\tfor word in x:\n",
    "\t\t\tsparse_x[word] = 1\n",
    "\t\ty = np.dot(r,sparse_x) + b\n",
    "\t\tif y > 0:\n",
    "\t\t\tys[i,1] = 1\n",
    "\t\telse:\n",
    "\t\t\tys[i,0] = 1\n",
    "\treturn ys"
   ]
  },
  {
   "cell_type": "code",
   "execution_count": null,
   "metadata": {
    "collapsed": true
   },
   "outputs": [],
   "source": []
  },
  {
   "cell_type": "code",
   "execution_count": 121,
   "metadata": {
    "collapsed": false
   },
   "outputs": [
    {
     "name": "stdout",
     "output_type": "stream",
     "text": [
      "100\n",
      "200\n",
      "300\n",
      "400\n",
      "500\n",
      "600\n",
      "700\n",
      "800\n",
      "900\n",
      "1000\n",
      "1100\n",
      "1200\n",
      "1300\n",
      "1400\n",
      "1500\n",
      "1600\n",
      "1700\n",
      "1800\n",
      "1900\n",
      "2000\n",
      "2100\n",
      "2200\n",
      "2300\n",
      "2400\n",
      "2500\n",
      "2600\n",
      "2700\n",
      "2800\n",
      "2900\n",
      "3000\n",
      "3100\n",
      "3200\n",
      "3300\n",
      "3400\n",
      "3500\n",
      "3600\n",
      "3700\n",
      "3800\n",
      "3900\n",
      "4000\n",
      "4100\n",
      "4200\n",
      "4300\n",
      "4400\n",
      "4500\n",
      "4600\n",
      "4700\n",
      "4800\n",
      "4900\n",
      "5000\n",
      "5100\n",
      "5200\n",
      "5300\n",
      "5400\n",
      "5500\n",
      "5600\n",
      "5700\n",
      "5800\n",
      "5900\n",
      "6000\n",
      "6100\n",
      "6200\n",
      "6300\n",
      "6400\n",
      "6500\n",
      "6600\n",
      "6700\n",
      "6800\n",
      "6900\n",
      "7000\n",
      "7100\n",
      "7200\n",
      "7300\n",
      "7400\n",
      "7500\n",
      "7600\n",
      "7700\n",
      "7800\n",
      "7900\n",
      "8000\n",
      "8100\n",
      "8200\n",
      "8300\n",
      "8400\n",
      "8500\n",
      "8600\n",
      "8700\n",
      "8800\n",
      "8900\n",
      "9000\n",
      "9100\n",
      "9200\n",
      "9300\n",
      "9400\n",
      "9500\n",
      "9600\n",
      "9700\n",
      "9800\n",
      "9900\n",
      "10000\n",
      "10100\n",
      "10200\n",
      "10300\n",
      "10400\n",
      "10500\n",
      "10600\n",
      "10700\n",
      "10800\n",
      "10900\n",
      "11000\n",
      "11100\n",
      "11200\n",
      "11300\n",
      "11400\n",
      "11500\n",
      "11600\n",
      "11700\n",
      "11800\n",
      "11900\n",
      "12000\n",
      "12100\n"
     ]
    },
    {
     "ename": "KeyboardInterrupt",
     "evalue": "",
     "output_type": "error",
     "traceback": [
      "\u001b[0;31m---------------------------------------------------------------------------\u001b[0m",
      "\u001b[0;31mKeyboardInterrupt\u001b[0m                         Traceback (most recent call last)",
      "\u001b[0;32m<ipython-input-121-7946e2a73ab8>\u001b[0m in \u001b[0;36m<module>\u001b[0;34m()\u001b[0m\n\u001b[1;32m     10\u001b[0m         \u001b[0my\u001b[0m \u001b[0;34m=\u001b[0m \u001b[0mbatch\u001b[0m\u001b[0;34m.\u001b[0m\u001b[0mlabel\u001b[0m\u001b[0;34m[\u001b[0m\u001b[0mi\u001b[0m\u001b[0;34m]\u001b[0m\u001b[0;34m\u001b[0m\u001b[0m\n\u001b[1;32m     11\u001b[0m \u001b[0;34m\u001b[0m\u001b[0m\n\u001b[0;32m---> 12\u001b[0;31m         \u001b[0;32mfor\u001b[0m \u001b[0mword\u001b[0m \u001b[0;32min\u001b[0m \u001b[0mx\u001b[0m\u001b[0;34m:\u001b[0m\u001b[0;34m\u001b[0m\u001b[0m\n\u001b[0m\u001b[1;32m     13\u001b[0m             \u001b[0mmat\u001b[0m\u001b[0;34m[\u001b[0m\u001b[0my\u001b[0m\u001b[0;34m.\u001b[0m\u001b[0mdata\u001b[0m\u001b[0;34m.\u001b[0m\u001b[0mnumpy\u001b[0m\u001b[0;34m(\u001b[0m\u001b[0;34m)\u001b[0m\u001b[0;34m[\u001b[0m\u001b[0;36m0\u001b[0m\u001b[0;34m]\u001b[0m\u001b[0;34m,\u001b[0m\u001b[0mword\u001b[0m\u001b[0;34m.\u001b[0m\u001b[0mdata\u001b[0m\u001b[0;34m.\u001b[0m\u001b[0mnumpy\u001b[0m\u001b[0;34m(\u001b[0m\u001b[0;34m)\u001b[0m\u001b[0;34m[\u001b[0m\u001b[0;36m0\u001b[0m\u001b[0;34m]\u001b[0m\u001b[0;34m]\u001b[0m \u001b[0;34m+=\u001b[0m \u001b[0;36m1\u001b[0m\u001b[0;34m\u001b[0m\u001b[0m\n\u001b[1;32m     14\u001b[0m \u001b[0;34m\u001b[0m\u001b[0m\n",
      "\u001b[0;31mKeyboardInterrupt\u001b[0m: "
     ]
    }
   ],
   "source": [
    "# Training\n",
    "\n",
    "mat = np.zeros([3,len(TEXT.vocab)])\n",
    "\n",
    "cntr = 0\n",
    "    \n",
    "for batch in train_iter:\n",
    "    for i in range(batch.text.size()[1]):\n",
    "        x = batch.text[:,i]\n",
    "        y = batch.label[i]\n",
    "            \n",
    "        for word in x:\n",
    "            mat[y.data.numpy()[0],word.data.numpy()[0]] += 1\n",
    "            \n",
    "    cntr += 1\n",
    "    \n",
    "    if not cntr % 100:\n",
    "        print(cntr)"
   ]
  },
  {
   "cell_type": "code",
   "execution_count": null,
   "metadata": {
    "collapsed": true
   },
   "outputs": [],
   "source": [
    "def NBunigram(batchtext):\n",
    "    probs = []\n",
    "    \n",
    "    for i in range(batchtext.size()[1]):\n",
    "        x = batchtext[:,i]\n",
    "        y = batch.label[i]\n",
    "        \n",
    "        prob0, prob1, prob2 = 1\n",
    "        \n",
    "        for word in x:\n",
    "            prob0 *= mat[0,word.data.numpy()[0]]\n",
    "            prob1 *= mat[1,word.data.numpy()[0]]\n",
    "            prob2 *= mat[2,word.data.numpy()[0]]\n",
    "            \n",
    "        probs.append([prob0,prob1,prob2])\n",
    "        \n",
    "    return np.array(probs)"
   ]
  },
  {
   "cell_type": "markdown",
   "metadata": {},
   "source": [
    "# 2"
   ]
  },
  {
   "cell_type": "code",
   "execution_count": 48,
   "metadata": {
    "collapsed": true
   },
   "outputs": [],
   "source": [
    "learning_rate = 0.001\n",
    "bs = 10\n",
    "num_epochs = 12\n",
    "input_size = len(TEXT.vocab)"
   ]
  },
  {
   "cell_type": "code",
   "execution_count": 40,
   "metadata": {
    "collapsed": false
   },
   "outputs": [],
   "source": [
    "class LogisticRegression(nn.Module):\n",
    "    def __init__(self, input_size):\n",
    "        super(LogisticRegression, self).__init__()\n",
    "        self.linear = nn.Linear(input_size, 2)\n",
    "    \n",
    "    def forward(self, x):\n",
    "        out = self.linear(x)\n",
    "        return out\n",
    "\n",
    "model = LogisticRegression(input_size)\n",
    "criterion = nn.CrossEntropyLoss()  \n",
    "optimizer = torch.optim.SGD(model.parameters(), lr=learning_rate)"
   ]
  },
  {
   "cell_type": "code",
   "execution_count": 49,
   "metadata": {
    "collapsed": false,
    "scrolled": true
   },
   "outputs": [
    {
     "name": "stdout",
     "output_type": "stream",
     "text": [
      "Epoch [1/12], Iter [100/692] Loss: 0.6881\n",
      "Epoch [1/12], Iter [200/692] Loss: 0.6956\n",
      "Epoch [1/12], Iter [300/692] Loss: 0.7239\n",
      "Epoch [1/12], Iter [400/692] Loss: 0.6681\n",
      "Epoch [1/12], Iter [500/692] Loss: 0.6972\n",
      "Epoch [1/12], Iter [600/692] Loss: 0.7245\n",
      "Epoch [2/12], Iter [700/692] Loss: 0.6843\n",
      "Epoch [2/12], Iter [800/692] Loss: 0.6959\n",
      "Epoch [2/12], Iter [900/692] Loss: 0.6603\n",
      "Epoch [2/12], Iter [1000/692] Loss: 0.7038\n",
      "Epoch [2/12], Iter [1100/692] Loss: 0.6991\n",
      "Epoch [2/12], Iter [1200/692] Loss: 0.6993\n",
      "Epoch [2/12], Iter [1300/692] Loss: 0.6934\n",
      "Epoch [3/12], Iter [1400/692] Loss: 0.7083\n",
      "Epoch [3/12], Iter [1500/692] Loss: 0.7116\n",
      "Epoch [3/12], Iter [1600/692] Loss: 0.6904\n",
      "Epoch [3/12], Iter [1700/692] Loss: 0.6993\n",
      "Epoch [3/12], Iter [1800/692] Loss: 0.6716\n",
      "Epoch [3/12], Iter [1900/692] Loss: 0.6661\n",
      "Epoch [3/12], Iter [2000/692] Loss: 0.6451\n",
      "Epoch [4/12], Iter [2100/692] Loss: 0.6495\n",
      "Epoch [4/12], Iter [2200/692] Loss: 0.6913\n",
      "Epoch [4/12], Iter [2300/692] Loss: 0.6946\n",
      "Epoch [4/12], Iter [2400/692] Loss: 0.7049\n",
      "Epoch [4/12], Iter [2500/692] Loss: 0.6974\n",
      "Epoch [4/12], Iter [2600/692] Loss: 0.7080\n",
      "Epoch [4/12], Iter [2700/692] Loss: 0.6982\n",
      "Epoch [5/12], Iter [2800/692] Loss: 0.7424\n",
      "Epoch [5/12], Iter [2900/692] Loss: 0.6808\n",
      "Epoch [5/12], Iter [3000/692] Loss: 0.6539\n",
      "Epoch [5/12], Iter [3100/692] Loss: 0.6598\n",
      "Epoch [5/12], Iter [3200/692] Loss: 0.6774\n",
      "Epoch [5/12], Iter [3300/692] Loss: 0.6764\n",
      "Epoch [5/12], Iter [3400/692] Loss: 0.6734\n",
      "Epoch [6/12], Iter [3500/692] Loss: 0.6317\n",
      "Epoch [6/12], Iter [3600/692] Loss: 0.6659\n",
      "Epoch [6/12], Iter [3700/692] Loss: 0.6680\n",
      "Epoch [6/12], Iter [3800/692] Loss: 0.6583\n",
      "Epoch [6/12], Iter [3900/692] Loss: 0.6813\n",
      "Epoch [6/12], Iter [4000/692] Loss: 0.7010\n",
      "Epoch [6/12], Iter [4100/692] Loss: 0.6844\n",
      "Epoch [7/12], Iter [4200/692] Loss: 0.7041\n",
      "Epoch [7/12], Iter [4300/692] Loss: 0.6990\n",
      "Epoch [7/12], Iter [4400/692] Loss: 0.6761\n",
      "Epoch [7/12], Iter [4500/692] Loss: 0.7022\n",
      "Epoch [7/12], Iter [4600/692] Loss: 0.6941\n",
      "Epoch [7/12], Iter [4700/692] Loss: 0.5818\n",
      "Epoch [7/12], Iter [4800/692] Loss: 0.6981\n",
      "Epoch [8/12], Iter [4900/692] Loss: 0.6366\n",
      "Epoch [8/12], Iter [5000/692] Loss: 0.6631\n",
      "Epoch [8/12], Iter [5100/692] Loss: 0.6642\n",
      "Epoch [8/12], Iter [5200/692] Loss: 0.6710\n",
      "Epoch [8/12], Iter [5300/692] Loss: 0.7293\n",
      "Epoch [8/12], Iter [5400/692] Loss: 0.6226\n",
      "Epoch [8/12], Iter [5500/692] Loss: 0.6712\n",
      "Epoch [9/12], Iter [5600/692] Loss: 0.6629\n",
      "Epoch [9/12], Iter [5700/692] Loss: 0.6048\n",
      "Epoch [9/12], Iter [5800/692] Loss: 0.7079\n",
      "Epoch [9/12], Iter [5900/692] Loss: 0.6516\n",
      "Epoch [9/12], Iter [6000/692] Loss: 0.6898\n",
      "Epoch [9/12], Iter [6100/692] Loss: 0.7155\n",
      "Epoch [9/12], Iter [6200/692] Loss: 0.6288\n",
      "Epoch [10/12], Iter [6300/692] Loss: 0.6388\n",
      "Epoch [10/12], Iter [6400/692] Loss: 0.7045\n",
      "Epoch [10/12], Iter [6500/692] Loss: 0.6514\n",
      "Epoch [10/12], Iter [6600/692] Loss: 0.6742\n",
      "Epoch [10/12], Iter [6700/692] Loss: 0.6750\n",
      "Epoch [10/12], Iter [6800/692] Loss: 0.6660\n",
      "Epoch [10/12], Iter [6900/692] Loss: 0.6827\n",
      "Epoch [11/12], Iter [7000/692] Loss: 0.6810\n",
      "Epoch [11/12], Iter [7100/692] Loss: 0.6400\n",
      "Epoch [11/12], Iter [7200/692] Loss: 0.6606\n",
      "Epoch [11/12], Iter [7300/692] Loss: 0.6556\n",
      "Epoch [11/12], Iter [7400/692] Loss: 0.6597\n",
      "Epoch [11/12], Iter [7500/692] Loss: 0.5992\n",
      "Epoch [11/12], Iter [7600/692] Loss: 0.6223\n",
      "Epoch [12/12], Iter [7700/692] Loss: 0.6290\n",
      "Epoch [12/12], Iter [7800/692] Loss: 0.6635\n",
      "Epoch [12/12], Iter [7900/692] Loss: 0.6331\n",
      "Epoch [12/12], Iter [8000/692] Loss: 0.6631\n",
      "Epoch [12/12], Iter [8100/692] Loss: 0.6214\n",
      "Epoch [12/12], Iter [8200/692] Loss: 0.7049\n",
      "Epoch [12/12], Iter [8300/692] Loss: 0.6346\n"
     ]
    }
   ],
   "source": [
    "for epoch in range(num_epochs):\n",
    "\tctr = 0\n",
    "\tfor batch in train_iter:\n",
    "\t\t# TODO: is there a better way to sparsify?\n",
    "\t\tsentences = Variable(torch.zeros(bs,input_size))\n",
    "\t\tfor i in range(batch.text.size()[1]):\n",
    "\t\t\tx = batch.text.data.numpy()[:,i]\n",
    "\t\t\tfor word in x:\n",
    "\t\t\t\tsentences[i,word] = 1 # += 1\n",
    "\t\tlabels = (batch.label==1).type(torch.LongTensor)\n",
    "\t\t# change labels from \"1\" and \"2\"\n",
    "\t\toptimizer.zero_grad()\n",
    "\t\toutputs = model(sentences)\n",
    "\t\tloss = criterion(outputs, labels)\n",
    "\t\tloss.backward()\n",
    "\t\toptimizer.step()\n",
    "\t\tctr += 1\n",
    "\t\tif ctr % 100 == 0:\n",
    "\t\t\tprint ('Epoch [%d/%d], Iter [%d/%d] Loss: %.4f' \n",
    "\t\t\t\t%(epoch+1, num_epochs, ctr, len(train)//bs, loss.data[0]))"
   ]
  },
  {
   "cell_type": "code",
   "execution_count": 64,
   "metadata": {
    "collapsed": false
   },
   "outputs": [],
   "source": [
    "correct = 0\n",
    "total = 0\n",
    "for batch in val_iter:\n",
    "\tbsz = batch.text.size()[1] # batch size might change\n",
    "\tsentences = Variable(torch.zeros(bsz,input_size))\n",
    "\tfor i in range(bsz):\n",
    "\t\tx = batch.text.data.numpy()[:,i]\n",
    "\t\tfor word in x:\n",
    "\t\t\tsentences[i,word] = 1 # += 1\n",
    "\tlabels = (batch.label==1).type(torch.LongTensor).data\n",
    "\t# change labels from 1,2 to 1,0\n",
    "\toutputs = model(sentences)\n",
    "\t_, predicted = torch.max(outputs.data, 1)\n",
    "\ttotal += labels.size(0)\n",
    "\tcorrect += (predicted == labels).sum()"
   ]
  },
  {
   "cell_type": "code",
   "execution_count": null,
   "metadata": {
    "collapsed": false
   },
   "outputs": [],
   "source": [
    "print('test accuracy', correct/total)"
   ]
  },
  {
   "cell_type": "markdown",
   "metadata": {},
   "source": [
    "# 3"
   ]
  },
  {
   "cell_type": "code",
   "execution_count": null,
   "metadata": {
    "collapsed": true
   },
   "outputs": [],
   "source": []
  },
  {
   "cell_type": "markdown",
   "metadata": {},
   "source": [
    "# 4"
   ]
  },
  {
   "cell_type": "code",
   "execution_count": 69,
   "metadata": {
    "collapsed": true
   },
   "outputs": [],
   "source": [
    "filter_window = 3\n",
    "n_featmaps = 100\n",
    "bs = 10\n",
    "dropout_rate = 0.5\n",
    "num_epochs = 1\n",
    "learning_rate = 0.001"
   ]
  },
  {
   "cell_type": "code",
   "execution_count": null,
   "metadata": {
    "collapsed": true
   },
   "outputs": [],
   "source": [
    "class CNN(nn.Module):\n",
    "\tdef __init__(self):\n",
    "\t\tsuper(CNN, self).__init__()\n",
    "\t\tself.embeddings = nn.Embedding(TEXT.vocab.vectors.size())\n",
    "\t\tself.embeddings.weight = TEXT.vocab.vectors\n",
    "\t\tself.conv = nn.Conv2d(1,n_featmaps,kernel_size=(filter_window,300))\n",
    "\t\tself.maxpool = nn.AdaptiveMaxPool1d(1)\n",
    "\t\tself.linear = nn.Linear(n_featmaps, 2)\n",
    "\t\tself.dropout = nn.Dropout(dropout_rate)\n",
    "\n",
    "\tdef forward(self, inputs):\n",
    "\t\tembeds = self.embeddings(inputs) # .view((1, -1))\n",
    "\t\tout = F.tanh(self.conv(embeds))\n",
    "\t\tout = out.view(bs,n_featmaps,-1)\n",
    "\t\tout = self.maxpool(out)\n",
    "\t\tout = out.view(bs,-1)\n",
    "\t\tout = self.linear(out)\n",
    "\t\tout = self.dropout(out,dim=1)"
   ]
  },
  {
   "cell_type": "code",
   "execution_count": null,
   "metadata": {
    "collapsed": false
   },
   "outputs": [],
   "source": []
  },
  {
   "cell_type": "code",
   "execution_count": null,
   "metadata": {
    "collapsed": false
   },
   "outputs": [],
   "source": []
  },
  {
   "cell_type": "code",
   "execution_count": null,
   "metadata": {
    "collapsed": true
   },
   "outputs": [],
   "source": []
  },
  {
   "cell_type": "code",
   "execution_count": null,
   "metadata": {
    "collapsed": true
   },
   "outputs": [],
   "source": []
  },
  {
   "cell_type": "markdown",
   "metadata": {},
   "source": [
    "# 5"
   ]
  },
  {
   "cell_type": "code",
   "execution_count": null,
   "metadata": {
    "collapsed": true
   },
   "outputs": [],
   "source": []
  }
 ],
 "metadata": {
  "anaconda-cloud": {},
  "kernelspec": {
   "display_name": "Python [Root]",
   "language": "python",
   "name": "Python [Root]"
  },
  "language_info": {
   "codemirror_mode": {
    "name": "ipython",
    "version": 3
   },
   "file_extension": ".py",
   "mimetype": "text/x-python",
   "name": "python",
   "nbconvert_exporter": "python",
   "pygments_lexer": "ipython3",
   "version": "3.5.3"
  }
 },
 "nbformat": 4,
 "nbformat_minor": 2
}
